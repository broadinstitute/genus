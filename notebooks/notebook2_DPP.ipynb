{
 "cells": [
  {
   "cell_type": "markdown",
   "metadata": {},
   "source": [
    "# Determinental Point Process (DPP)"
   ]
  },
  {
   "cell_type": "markdown",
   "metadata": {},
   "source": [
    "This simple notebook demonstrates how to draw random samples from a FiniteDPP process defined by a square exponential similarity kernel with different values of lenght_scale and prefactor. \n",
    "\n",
    "We also compute the log_probability of the generated samples."
   ]
  },
  {
   "cell_type": "code",
   "execution_count": 4,
   "metadata": {},
   "outputs": [],
   "source": [
    "%matplotlib inline\n",
    "import matplotlib.pyplot as plt\n",
    "import torch\n",
    "import genus as gn"
   ]
  },
  {
   "cell_type": "code",
   "execution_count": 17,
   "metadata": {},
   "outputs": [
    {
     "name": "stdout",
     "output_type": "stream",
     "text": [
      "length_scale ->  20, prefactor -> 0.100,                n_sample ->     3, log_prob -> -17.720615\n",
      "length_scale ->  20, prefactor -> 1.000,                n_sample ->     6, log_prob -> -30.117783\n",
      "length_scale ->  20, prefactor -> 5.000,                n_sample ->     7, log_prob -> -32.128384\n",
      "length_scale ->  20, prefactor -> 10.000,                n_sample ->     7, log_prob -> -29.892311\n",
      "length_scale ->  10, prefactor -> 0.100,                n_sample ->     5, log_prob -> -24.082760\n",
      "length_scale ->  10, prefactor -> 1.000,                n_sample ->     9, log_prob -> -38.540089\n",
      "length_scale ->  10, prefactor -> 5.000,                n_sample ->    11, log_prob -> -43.883831\n",
      "length_scale ->  10, prefactor -> 10.000,                n_sample ->    16, log_prob -> -67.451736\n",
      "length_scale ->   5, prefactor -> 0.100,                n_sample ->     7, log_prob -> -35.266594\n",
      "length_scale ->   5, prefactor -> 1.000,                n_sample ->    21, log_prob -> -77.934204\n",
      "length_scale ->   5, prefactor -> 5.000,                n_sample ->    24, log_prob -> -77.585342\n",
      "length_scale ->   5, prefactor -> 10.000,                n_sample ->    29, log_prob -> -94.150978\n",
      "length_scale ->   1, prefactor -> 0.100,                n_sample ->    25, log_prob -> -94.518204\n",
      "length_scale ->   1, prefactor -> 1.000,                n_sample ->   122, log_prob -> -245.124893\n",
      "length_scale ->   1, prefactor -> 5.000,                n_sample ->   236, log_prob -> -264.888245\n",
      "length_scale ->   1, prefactor -> 10.000,                n_sample ->   260, log_prob -> -251.136658\n"
     ]
    },
    {
     "data": {
      "image/png": "[encoded data removed]",
      "text/plain": [
       "<Figure size 576x576 with 16 Axes>"
      ]
     },
     "metadata": {
      "needs_background": "light"
     },
     "output_type": "display_data"
    }
   ],
   "source": [
    "fig, ax =  plt.subplots(ncols=4, nrows=4, figsize=(8,8))\n",
    "for r, length_scale in enumerate([20,10,5,1]):\n",
    "    for c, prefactor in enumerate([0.1, 1, 5, 10]):\n",
    "        KERNEL = gn.SimilarityKernel(length_scale=length_scale, weight=prefactor)\n",
    "        likelihood_matrix = KERNEL.forward(n_width=20, n_height=20)\n",
    "        DPP = gn.FiniteDPP(L=likelihood_matrix)\n",
    "        value = DPP.sample(sample_shape=torch.Size([1]))  # draw one random samples\n",
    "        n_samples = value.sum(dim=-1).item()\n",
    "        logp = DPP.log_prob(value=value).item()       \n",
    "        mask = KERNEL.sample_2_mask(value)\n",
    "        # print(\"value.shape, mask.shape ->\",value.shape, mask.shape)\n",
    "        print(\"length_scale -> {0:3d}, prefactor -> {1:.3f}, \\\n",
    "               n_sample -> {2:5d}, log_prob -> {3:.6f}\".format(length_scale, prefactor, n_samples, logp))\n",
    "        \n",
    "        ax[r,c].axis('off')\n",
    "        ax[r,c].imshow(mask[0], cmap='gray')\n",
    "fig.tight_layout()\n",
    "fig.savefig(\"./DPP_samples.png\")"
   ]
  },
  {
   "cell_type": "code",
   "execution_count": null,
   "metadata": {},
   "outputs": [],
   "source": []
  }
 ],
 "metadata": {
  "kernelspec": {
   "display_name": "Python 3",
   "language": "python",
   "name": "python3"
  },
  "language_info": {
   "codemirror_mode": {
    "name": "ipython",
    "version": 3
   },
   "file_extension": ".py",
   "mimetype": "text/x-python",
   "name": "python",
   "nbconvert_exporter": "python",
   "pygments_lexer": "ipython3",
   "version": "3.8.2"
  },
  "neptune": {
   "notebookId": "ea58cca6-5f9c-4037-8151-a3c4003e7b30"
  }
 },
 "nbformat": 4,
 "nbformat_minor": 4
}
