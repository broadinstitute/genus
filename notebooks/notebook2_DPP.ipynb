{
 "cells": [
  {
   "cell_type": "markdown",
   "metadata": {},
   "source": [
    "# Determinental Point Process (DPP)"
   ]
  },
  {
   "cell_type": "markdown",
   "metadata": {},
   "source": [
    "This simple notebook demonstrates how to draw random samples from a FiniteDPP process defined by a square exponential similarity kernel with different values of lenght_scale and prefactor. \n",
    "\n",
    "We also compute the log_probability of the generated samples."
   ]
  },
  {
   "cell_type": "code",
   "execution_count": 36,
   "metadata": {},
   "outputs": [],
   "source": [
    "%matplotlib inline\n",
    "import matplotlib.pyplot as plt\n",
    "import torch\n",
    "import cellsegmenter as cs"
   ]
  },
  {
   "cell_type": "code",
   "execution_count": 41,
   "metadata": {},
   "outputs": [
    {
     "name": "stdout",
     "output_type": "stream",
     "text": [
      "value.shape, mask.shape -> torch.Size([2, 400]) torch.Size([2, 20, 20])\n",
      "length_scale, prefactor, n, log_prob -> 20 0.1 [3, 3] [-15.37298583984375, -17.554983139038086]\n",
      "value.shape, mask.shape -> torch.Size([2, 400]) torch.Size([2, 20, 20])\n",
      "length_scale, prefactor, n, log_prob -> 20 1 [4, 3] [-23.09654998779297, -17.831289291381836]\n",
      "value.shape, mask.shape -> torch.Size([2, 400]) torch.Size([2, 20, 20])\n",
      "length_scale, prefactor, n, log_prob -> 20 5 [6, 6] [-26.283910751342773, -27.830690383911133]\n",
      "value.shape, mask.shape -> torch.Size([2, 400]) torch.Size([2, 20, 20])\n",
      "length_scale, prefactor, n, log_prob -> 20 10 [5, 6] [-25.650983810424805, -28.95526695251465]\n",
      "value.shape, mask.shape -> torch.Size([2, 400]) torch.Size([2, 20, 20])\n",
      "length_scale, prefactor, n, log_prob -> 10 0.1 [1, 7] [-12.220987319946289, -34.44422912597656]\n",
      "value.shape, mask.shape -> torch.Size([2, 400]) torch.Size([2, 20, 20])\n",
      "length_scale, prefactor, n, log_prob -> 10 1 [8, 9] [-38.18208312988281, -39.66758346557617]\n",
      "value.shape, mask.shape -> torch.Size([2, 400]) torch.Size([2, 20, 20])\n",
      "length_scale, prefactor, n, log_prob -> 10 5 [11, 11] [-50.02324676513672, -48.38667678833008]\n",
      "value.shape, mask.shape -> torch.Size([2, 400]) torch.Size([2, 20, 20])\n",
      "length_scale, prefactor, n, log_prob -> 10 10 [13, 12] [-48.64994812011719, -47.93130874633789]\n",
      "value.shape, mask.shape -> torch.Size([2, 400]) torch.Size([2, 20, 20])\n",
      "length_scale, prefactor, n, log_prob -> 5 0.1 [13, 9] [-55.279476165771484, -40.599998474121094]\n",
      "value.shape, mask.shape -> torch.Size([2, 400]) torch.Size([2, 20, 20])\n",
      "length_scale, prefactor, n, log_prob -> 5 1 [22, 23] [-79.25243377685547, -83.81301879882812]\n",
      "value.shape, mask.shape -> torch.Size([2, 400]) torch.Size([2, 20, 20])\n",
      "length_scale, prefactor, n, log_prob -> 5 5 [23, 24] [-77.3821029663086, -85.42473602294922]\n",
      "value.shape, mask.shape -> torch.Size([2, 400]) torch.Size([2, 20, 20])\n",
      "length_scale, prefactor, n, log_prob -> 5 10 [29, 28] [-91.939697265625, -85.62640380859375]\n",
      "value.shape, mask.shape -> torch.Size([2, 400]) torch.Size([2, 20, 20])\n",
      "length_scale, prefactor, n, log_prob -> 1 0.1 [29, 31] [-104.89035034179688, -108.96406555175781]\n",
      "value.shape, mask.shape -> torch.Size([2, 400]) torch.Size([2, 20, 20])\n",
      "length_scale, prefactor, n, log_prob -> 1 1 [134, 135] [-248.892578125, -249.02789306640625]\n",
      "value.shape, mask.shape -> torch.Size([2, 400]) torch.Size([2, 20, 20])\n",
      "length_scale, prefactor, n, log_prob -> 1 5 [227, 217] [-263.474853515625, -269.5054626464844]\n",
      "value.shape, mask.shape -> torch.Size([2, 400]) torch.Size([2, 20, 20])\n",
      "length_scale, prefactor, n, log_prob -> 1 10 [260, 255] [-259.78765869140625, -259.1282043457031]\n"
     ]
    },
    {
     "data": {
      "image/png": "[encoded data removed]",
      "text/plain": [
       "<Figure size 576x576 with 16 Axes>"
      ]
     },
     "metadata": {
      "needs_background": "light"
     },
     "output_type": "display_data"
    }
   ],
   "source": [
    "fig, ax =  plt.subplots(ncols=4, nrows=4, figsize=(8,8))\n",
    "for r, length_scale in enumerate([20,10,5,1]):\n",
    "    for c, prefactor in enumerate([0.1, 1, 5, 10]):\n",
    "        KERNEL = cs.SimilarityKernel(length_scale=length_scale, weight=prefactor)\n",
    "        likelihood_matrix = KERNEL.forward(n_width=20, n_height=20)\n",
    "        DPP = cs.FiniteDPP(L=likelihood_matrix)\n",
    "        value = DPP.sample(sample_shape=torch.Size([2]))  # draw two samples\n",
    "        n_samples = value.sum(dim=-1)\n",
    "        logp = DPP.log_prob(value=value)        \n",
    "        mask = kernel.sample_2_mask(value)\n",
    "        print(\"value.shape, mask.shape ->\",value.shape, mask.shape)\n",
    "        print(\"length_scale, prefactor, n, log_prob ->\",length_scale,prefactor,n_samples.tolist(),logp.tolist())\n",
    "        \n",
    "        ax[r,c].axis('off')\n",
    "        ax[r,c].imshow(mask[0], cmap='gray')\n",
    "fig.tight_layout()\n",
    "fig.savefig(\"./DPP_samples.png\")"
   ]
  },
  {
   "cell_type": "code",
   "execution_count": null,
   "metadata": {},
   "outputs": [],
   "source": []
  }
 ],
 "metadata": {
  "kernelspec": {
   "display_name": "Python 3",
   "language": "python",
   "name": "python3"
  },
  "language_info": {
   "codemirror_mode": {
    "name": "ipython",
    "version": 3
   },
   "file_extension": ".py",
   "mimetype": "text/x-python",
   "name": "python",
   "nbconvert_exporter": "python",
   "pygments_lexer": "ipython3",
   "version": "3.8.2"
  },
  "neptune": {
   "notebookId": "ea58cca6-5f9c-4037-8151-a3c4003e7b30"
  }
 },
 "nbformat": 4,
 "nbformat_minor": 4
}
