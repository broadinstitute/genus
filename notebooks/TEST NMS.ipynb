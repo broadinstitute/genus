{
 "cells": [
  {
   "cell_type": "markdown",
   "metadata": {},
   "source": [
    "# TEST NMS"
   ]
  },
  {
   "cell_type": "code",
   "execution_count": null,
   "metadata": {},
   "outputs": [],
   "source": [
    "%matplotlib inline\n",
    "import matplotlib.pyplot as plt\n",
    "\n",
    "import numpy as np\n",
    "import torch\n",
    "import time\n",
    "batch = 4\n",
    "K = 8\n",
    "L = torch.rand(batch, K, K)\n",
    "mask = (torch.rand(batch, K) > 0.5)"
   ]
  },
  {
   "cell_type": "markdown",
   "metadata": {},
   "source": [
    "# ATTEMPT 4"
   ]
  },
  {
   "cell_type": "code",
   "execution_count": null,
   "metadata": {},
   "outputs": [],
   "source": [
    "start_time = time.time()\n",
    "\n",
    "n_c = torch.sum(mask, dim=-1)\n",
    "n_max = n_c.max().item()\n",
    "mask_s = (torch.arange(1,n_max+1).view(1,-1) <= n_c.view(-1,1))\n",
    "mask_LL = torch.logical_and(mask.unsqueeze(-1),mask.unsqueeze(-2))\n",
    "mask_ss = torch.logical_and(mask_s.unsqueeze(-1),mask_s.unsqueeze(-2))\n",
    "matrix = torch.eye(n_max, dtype=L.dtype, device=L.device).expand(L.shape[-3], n_max, n_max).clone()\n",
    "matrix[mask_ss] = L[mask_LL]\n",
    "mid_time = time.time()\n",
    "\n",
    "\n",
    "logdet_Ls = torch.logdet(matrix)\n",
    "end_time = time.time()\n",
    "print(\"Start to midpoint\", mid_time - start_time)\n",
    "print(\"midpoint to end\", end_time - mid_time)"
   ]
  },
  {
   "cell_type": "code",
   "execution_count": null,
   "metadata": {},
   "outputs": [],
   "source": [
    "fig, axes = plt.subplots(ncols=2, nrows=1, figsize=(12, 6))\n",
    "n = 3\n",
    "print(mask_ss.shape[-1], n_c[n], n_max)\n",
    "axes[0].imshow(mask_ss[n])\n",
    "axes[0].set_xticks(ticks=np.arange(mask_ss.shape[-1])+0.5)\n",
    "axes[0].set_yticks(ticks=np.arange(mask_ss.shape[-1])+0.5)\n",
    "axes[0].grid(which=\"major\")\n",
    "\n",
    "axes[1].imshow(mask_LL[n])\n",
    "axes[1].set_xticks(ticks=np.arange(mask_LL.shape[-1])+0.5)\n",
    "axes[1].set_yticks(ticks=np.arange(mask_LL.shape[-1])+0.5)\n",
    "axes[1].grid(which=\"major\")"
   ]
  },
  {
   "cell_type": "code",
   "execution_count": null,
   "metadata": {},
   "outputs": [],
   "source": [
    "j=1\n",
    "print(mask[j])\n",
    "print(mask_LL[j])"
   ]
  },
  {
   "cell_type": "markdown",
   "metadata": {},
   "source": [
    "# ATTEMPT 0"
   ]
  },
  {
   "cell_type": "code",
   "execution_count": null,
   "metadata": {},
   "outputs": [],
   "source": [
    "start_time = time.time()\n",
    "\n",
    "n_c = torch.sum(mask, dim=-1)\n",
    "n_max = n_c.max().item()\n",
    "mask_s = (torch.arange(1,n_max+1).view(1,-1) <= n_c.view(-1,1))\n",
    "mask_ss = torch.einsum('bi,bj->bij', mask_s, mask_s)\n",
    "mask_LL = torch.einsum('bi,bj->bij', mask, mask)\n",
    "matrix = torch.eye(n_max, dtype=L.dtype, device=L.device).expand(L.shape[-3], n_max, n_max).clone()\n",
    "matrix[mask_ss] = L[mask_LL]\n",
    "mid_time = time.time()\n",
    "\n",
    "logdet_Ls = torch.logdet(matrix)\n",
    "end_time = time.time()\n",
    "print(\"Start to midpoint\", mid_time - start_time)\n",
    "print(\"midpoint to end\", end_time - mid_time)"
   ]
  },
  {
   "cell_type": "markdown",
   "metadata": {},
   "source": [
    "# ATTEMPT 1"
   ]
  },
  {
   "cell_type": "code",
   "execution_count": null,
   "metadata": {},
   "outputs": [],
   "source": [
    "start_time = time.time()\n",
    "\n",
    "n_c = torch.sum(mask, dim=-1)\n",
    "n_max = n_c.max().item()\n",
    "matrix = torch.eye(n_max, dtype=L.dtype, device=L.device).expand(L.shape[-3], n_max, n_max).clone()\n",
    "for i in range(batch):\n",
    "    matrix[i, :n_c[i], :n_c[i]] = L[i, mask[i], :][:, mask[i]]  # WORKS BUT SLOW\n",
    "mid_time = time.time()\n",
    "\n",
    "logdet_Ls = torch.logdet(matrix)\n",
    "end_time = time.time()\n",
    "print(\"Start to midpoint\", mid_time - start_time)\n",
    "print(\"midpoint to end\", end_time - mid_time)"
   ]
  },
  {
   "cell_type": "markdown",
   "metadata": {},
   "source": [
    "# ATTEMPT 2"
   ]
  },
  {
   "cell_type": "code",
   "execution_count": null,
   "metadata": {},
   "outputs": [],
   "source": [
    "start_time = time.time()\n",
    "\n",
    "matrix = L.clone()\n",
    "for i in range(batch):\n",
    "    matrix[i, ~mask[i], :] = 0\n",
    "    matrix[i, :, ~mask[i]] = 0\n",
    "    matrix[i, ~mask[i], ~mask[i]] = 1\n",
    "mid_time = time.time()\n",
    "\n",
    "logdet_Ls = torch.logdet(matrix)\n",
    "end_time = time.time()\n",
    "print(\"Start to midpoint\", mid_time - start_time)\n",
    "print(\"midpoint to end\", end_time - mid_time)"
   ]
  },
  {
   "cell_type": "markdown",
   "metadata": {},
   "source": [
    "# ATTEMPT 3"
   ]
  },
  {
   "cell_type": "code",
   "execution_count": null,
   "metadata": {},
   "outputs": [],
   "source": [
    "batch = 7\n",
    "L = torch.randn(batch, 8, 8)\n",
    "mask = (torch.rand(batch, 8) > 0.4)"
   ]
  },
  {
   "cell_type": "code",
   "execution_count": null,
   "metadata": {},
   "outputs": [],
   "source": [
    "n_tmp = torch.sum(mask, dim=-1)\n",
    "n_max = torch.max(n_tmp)\n",
    "n_min = torch.min(n_tmp)\n",
    "arange = torch.arange(n_min, n_max+1)\n",
    "matrix = torch.eye(n_max, dtype=L.dtype, device=L.device).expand(L.shape[-3], n_max, n_max).clone()\n",
    "print(arange)\n",
    "print(n_tmp)\n",
    "distinct_types = (n_tmp.view(-1,1) == arange.view(1,-1))  # shape: (batch, n_max-n_min+1)\n",
    "print(distinct_types.shape)\n",
    "\n",
    "for i, n_c in enumerate(arange):\n",
    "    #print(i, n_c)\n",
    "    #print(distinct_types[i])\n",
    "    #print(distinct_types[:,i])\n",
    "    a = matrix[distinct_types[:,i], :n_c, :n_c] \n",
    "    b = L[distinct_types[:,i]]\n",
    "    x = mask[distinct_types[:,i]]\n",
    "    y = L[x]\n",
    "    print(\"A.shape ->\",a.shape, b.shape, x.shape, y.shape)\n",
    "    #print(aaa[:,c])"
   ]
  },
  {
   "cell_type": "code",
   "execution_count": null,
   "metadata": {},
   "outputs": [],
   "source": [
    "n = torch.cumsum(mask, dim=-1)\n",
    "n_max = torch.max(n[:,-1])\n",
    "print(n)\n",
    "print(n_max)"
   ]
  },
  {
   "cell_type": "code",
   "execution_count": null,
   "metadata": {},
   "outputs": [],
   "source": [
    "new_index = index[...,None].expand_as\n",
    "batch_index = torch.arange(L.shape[0]).view(-1,1).expand_as(index)\n",
    "m = torch.gather(L[batch_index, index]\n",
    "print(m.shape)\n",
    "\n",
    "#print(batch_index.shape)\n",
    "\n",
    "#L1[index,]\n",
    "#m1 = torch.gather(L, dim=-1, index=index)\n",
    "#m1.shape\n",
    "#index2 = torch.stack((index,index),dim=-1)\n",
    "#print(index2.shape)\n",
    "#print(index[0])\n",
    "#matrix = torch.eye(n_max, dtype=L.dtype, device=L.device).expand(L.shape[-3], n_max, n_max).clone()\n",
    "#torch.gather(\n",
    "#input, dim, index, *, sparse_grad=False, out=None))"
   ]
  },
  {
   "cell_type": "code",
   "execution_count": null,
   "metadata": {},
   "outputs": [],
   "source": [
    "matrix."
   ]
  },
  {
   "cell_type": "code",
   "execution_count": null,
   "metadata": {},
   "outputs": [],
   "source": [
    "index.shape"
   ]
  },
  {
   "cell_type": "markdown",
   "metadata": {},
   "source": [
    "pad the "
   ]
  },
  {
   "cell_type": "code",
   "execution_count": null,
   "metadata": {},
   "outputs": [],
   "source": [
    "\n",
    "\n",
    "batch = 2560\n",
    "L = torch.randn(batch, 6, 6)\n",
    "mask = (torch.rand(batch, 6) > 0.8)\n",
    "\n",
    "start_time = time.time()\n",
    "matrix = L.clone()\n",
    "for i in range(batch):\n",
    "    matrix[i, ~mask[i], :] = 0\n",
    "    matrix[i, :, ~mask[i]] = 0\n",
    "    matrix[i, ~mask[i], ~mask[i]] = 1"
   ]
  },
  {
   "cell_type": "code",
   "execution_count": null,
   "metadata": {},
   "outputs": [],
   "source": [
    "mask[0]"
   ]
  },
  {
   "cell_type": "code",
   "execution_count": null,
   "metadata": {},
   "outputs": [],
   "source": [
    "L[0]"
   ]
  },
  {
   "cell_type": "code",
   "execution_count": null,
   "metadata": {},
   "outputs": [],
   "source": [
    "matrix[0]"
   ]
  },
  {
   "cell_type": "code",
   "execution_count": null,
   "metadata": {},
   "outputs": [],
   "source": [
    "\n",
    "\n",
    "%matplotlib inline\n",
    "import matplotlib.pyplot as plt\n",
    "\n",
    "import torch\n",
    "import torch.nn.functional as F"
   ]
  },
  {
   "cell_type": "code",
   "execution_count": null,
   "metadata": {},
   "outputs": [],
   "source": [
    "import genus\n",
    "from genus.model_parts import tgrid_to_bb\n",
    "from genus.util_ml import sample_c_grid\n",
    "from genus.util_vis import show_batch, draw_bounding_boxes\n",
    "from genus.util import convert_to_box_list\n",
    "from genus.non_max_suppression import NonMaxSuppression"
   ]
  },
  {
   "cell_type": "code",
   "execution_count": null,
   "metadata": {},
   "outputs": [],
   "source": [
    "from genus.util_ml import Grid_DPP"
   ]
  },
  {
   "cell_type": "code",
   "execution_count": null,
   "metadata": {},
   "outputs": [],
   "source": [
    "grid_dpp = Grid_DPP(length_scale=10, weight=1.0)\n"
   ]
  },
  {
   "cell_type": "code",
   "execution_count": null,
   "metadata": {},
   "outputs": [],
   "source": [
    "a = torch.zeros((20,20))\n",
    "c1 = grid_dpp.sample(size=a.size())\n",
    "print(c1.shape)\n",
    "c2 = grid_dpp.sample(size=a.size())\n",
    "print(c2.shape)"
   ]
  },
  {
   "cell_type": "code",
   "execution_count": null,
   "metadata": {},
   "outputs": [],
   "source": [
    "print(c1.shape)\n",
    "print(grid_dpp.finite_dpp.L.shape)\n",
    "logp = grid_dpp.log_prob(c1)\n",
    "print(logp.shape)\n",
    "logp = grid_dpp.log_prob(c1[0])\n",
    "print(logp.shape)\n",
    "logp = grid_dpp.log_prob(c1[...,:10,10:15])\n",
    "print(logp.shape)"
   ]
  },
  {
   "cell_type": "code",
   "execution_count": null,
   "metadata": {},
   "outputs": [],
   "source": []
  },
  {
   "cell_type": "code",
   "execution_count": null,
   "metadata": {},
   "outputs": [],
   "source": [
    "c.shape\n",
    "show_batch(c[0].float())"
   ]
  },
  {
   "cell_type": "code",
   "execution_count": null,
   "metadata": {},
   "outputs": [],
   "source": [
    "b, small_w,small_h = 1, 20, 20\n",
    "width_input_image, height_input_image = 80, 80\n",
    "min_box_size, max_box_size = 15, 35\n",
    "            \n",
    "pgrid = torch.rand((b,1,small_w,small_h))\n",
    "tgrid = 0.5 * torch.ones((b,4,small_w,small_h))\n",
    "bb = tgrid_to_bb(tgrid, \n",
    "                 width_input_image,\n",
    "                 height_input_image,\n",
    "                 min_box_size,\n",
    "                 max_box_size)\n",
    "\n",
    "c_before_nms = sample_c_grid(prob_grid=(pgrid>0.8).float(),\n",
    "                             similarity_matrix=None,\n",
    "                             noisy_sampling=True,\n",
    "                             sample_from_prior=False,\n",
    "                             mc_samples=1).squeeze(0)\n",
    "print(c_before_nms.sum())"
   ]
  },
  {
   "cell_type": "code",
   "execution_count": null,
   "metadata": {},
   "outputs": [],
   "source": [
    "c_n = convert_to_box_list(c_before_nms).squeeze(-1)\n",
    "bb_ideal = draw_bounding_boxes(bounding_box=bb,\n",
    "                               width=width_input_image, \n",
    "                               height=height_input_image,\n",
    "                               c=c_n,\n",
    "                               color=\"green\")\n",
    "show_batch(bb_ideal)"
   ]
  },
  {
   "cell_type": "code",
   "execution_count": null,
   "metadata": {},
   "outputs": [],
   "source": [
    "score_b1wh = c_before_nms + pgrid\n",
    "score = convert_to_box_list(score_b1wh).squeeze(dim=-1)\n",
    "\n",
    "print(score_b1wh.shape)\n",
    "print(score.shape)\n",
    "print(bb.bx.shape)\n",
    "\n",
    "nms_output = NonMaxSuppression.compute_mask_and_index(score=score,\n",
    "                                                      bounding_box=bb,\n",
    "                                                      iom_threshold=0.7,\n",
    "                                                      k_objects_max=10,\n",
    "                                                      topk_only=False)"
   ]
  },
  {
   "cell_type": "code",
   "execution_count": null,
   "metadata": {},
   "outputs": [],
   "source": [
    "(nms_output.k_mask_n * c_n).sum()"
   ]
  },
  {
   "cell_type": "code",
   "execution_count": null,
   "metadata": {},
   "outputs": [],
   "source": [
    "bb_ideal_after = draw_bounding_boxes(bounding_box=bb,\n",
    "                                     width=width_input_image, \n",
    "                                     height=height_input_image,\n",
    "                                     c=(nms_output.k_mask_n * c_n),\n",
    "                                     color=\"red\")\n",
    "show_batch(torch.cat((bb_ideal,bb_ideal_after), dim=0))"
   ]
  },
  {
   "cell_type": "code",
   "execution_count": null,
   "metadata": {},
   "outputs": [],
   "source": [
    "x = torch.linspace(-10,10,100)\n",
    "p = torch.tensor(0.01)\n",
    "print(p.log(), (1-p).log())\n",
    "H = F.sigmoid(x) * F.logsigmoid(x) + F.sigmoid(-x) * F.logsigmoid(-x)\n",
    "KL = F.sigmoid(x) * (F.logsigmoid(x) - p.log()) + F.sigmoid(-x) * (F.logsigmoid(-x) - (1-p).log())\n",
    "\n",
    "KLp = F.sigmoid(x) * (F.logsigmoid(x) - p.log()) \n",
    "KLm = F.sigmoid(-x) * (F.logsigmoid(-x) - (1-p).log())\n",
    "\n",
    "#plt.plot(x,F.logsigmoid(x))\n",
    "plt.plot(x,5*F.sigmoid(x),label=\"sigmoid\")\n",
    "#plt.plot(x,-3*F.sigmoid(x)*F.sigmoid(-x),label=\"p*(1-p)\")\n",
    "#plt.plot(x,H,label=\"H\")\n",
    "plt.plot(x,KL,label=\"KL\")\n",
    "#plt.plot(x,KLp,label=\"KLp\")\n",
    "#plt.plot(x,KLm,label=\"KLm\")\n",
    "plt.legend()"
   ]
  },
  {
   "cell_type": "code",
   "execution_count": null,
   "metadata": {},
   "outputs": [],
   "source": [
    "import numpy\n",
    "p = 1E-4\n",
    "numpy.log(p) - numpy.log(1-p)"
   ]
  },
  {
   "cell_type": "code",
   "execution_count": null,
   "metadata": {},
   "outputs": [],
   "source": [
    "a = torch.randn((3,2,3,4))\n",
    "print(a.shape)\n",
    "print(a.squeeze(dim=0).shape)"
   ]
  },
  {
   "cell_type": "code",
   "execution_count": null,
   "metadata": {},
   "outputs": [],
   "source": [
    "size = a.size()\n",
    "print(size, type(size), size[-1])"
   ]
  },
  {
   "cell_type": "code",
   "execution_count": null,
   "metadata": {},
   "outputs": [],
   "source": [
    "len(size)"
   ]
  },
  {
   "cell_type": "code",
   "execution_count": null,
   "metadata": {},
   "outputs": [],
   "source": [
    "size2 = [1]+ list(size)\n",
    "size2"
   ]
  },
  {
   "cell_type": "code",
   "execution_count": null,
   "metadata": {},
   "outputs": [],
   "source": [
    "show_batch(bb_ideal)"
   ]
  },
  {
   "cell_type": "code",
   "execution_count": null,
   "metadata": {},
   "outputs": [],
   "source": [
    "show_batch(c_before_nms)"
   ]
  },
  {
   "cell_type": "code",
   "execution_count": null,
   "metadata": {},
   "outputs": [],
   "source": []
  },
  {
   "cell_type": "code",
   "execution_count": null,
   "metadata": {},
   "outputs": [],
   "source": [
    "from genus.model_parts import tgrid_to_bb\n",
    "\n"
   ]
  },
  {
   "cell_type": "code",
   "execution_count": null,
   "metadata": {},
   "outputs": [],
   "source": [
    "a = torch.rand(5, requires_grad=True)\n",
    "b = torch.rand(5, requires_grad=True)\n",
    "print(a.dtype, type(a))\n",
    "\n",
    "\n",
    "optim1 = torch.optim.SGD([{'params': a, 'lr': 0.1}])\n",
    "optim2 = torch.optim.SGD([{'params': b, 'lr': 0.1}])\n",
    "\n",
    "\n",
    "\n",
    "#scheduler = torch.optim.lr_scheduler.StepLR(optimizer1,\n",
    "#                                            step_size=1,\n",
    "#                                            gamma=0.5,\n",
    "#                                            last_epoch=-1)\n",
    "\n",
    "a_list, b_list = [], []\n",
    "for n in range(10):\n",
    "    a_list.append(a.mean().detach().item())\n",
    "    b_list.append(b.mean().detach().item())\n",
    "    print(\"a ->\",a_list[-1],\"b ->\",b_list[-1])\n",
    "    optim1.zero_grad()\n",
    "    optim2.zero_grad()\n",
    "    (a+b).mean().backward()\n",
    "    optim1.step()\n",
    "    optim2.step()"
   ]
  },
  {
   "cell_type": "code",
   "execution_count": null,
   "metadata": {},
   "outputs": [],
   "source": [
    "print(a_list)\n",
    "plt.plot(a)"
   ]
  },
  {
   "cell_type": "code",
   "execution_count": null,
   "metadata": {},
   "outputs": [],
   "source": [
    "a = torch.ones(5, requires_grad=True)\n",
    "b = 2*a\n",
    "b.register_hook(lambda x: print(\"printing\",x))\n",
    "b.register_hook(lambda x: x.clamp(min=-0.01, max=0.01)) \n",
    "b.retain_grad()\n",
    "b.register_hook(lambda x: print(\"printing\",x))\n",
    "c = b.mean()\n",
    "print(\"C\",c)\n",
    "c.backward() \n",
    "\n",
    "print(\"A GRAD\",a.grad)\n",
    "print(\"B grad\",b.grad)"
   ]
  },
  {
   "cell_type": "code",
   "execution_count": null,
   "metadata": {},
   "outputs": [],
   "source": [
    "x = torch.randn(4)\n",
    "b = x.mean()\n",
    "print(torch.sign(x-b))\n",
    "print(torch.sign(0*x))"
   ]
  },
  {
   "cell_type": "code",
   "execution_count": 3,
   "metadata": {},
   "outputs": [],
   "source": [
    "from genus.model_parts import inverse_linear_exp_activation, linear_exp_activation\n",
    "import torch"
   ]
  },
  {
   "cell_type": "code",
   "execution_count": 9,
   "metadata": {},
   "outputs": [
    {
     "data": {
      "text/plain": [
       "[<matplotlib.lines.Line2D at 0x7fde7732a2e0>]"
      ]
     },
     "execution_count": 9,
     "metadata": {},
     "output_type": "execute_result"
    },
    {
     "data": {
      "image/png": "[encoded data removed]",
      "text/plain": [
       "<Figure size 432x288 with 1 Axes>"
      ]
     },
     "metadata": {
      "needs_background": "light"
     },
     "output_type": "display_data"
    }
   ],
   "source": [
    "x = torch.linspace(0,2,100)\n",
    "y = linear_exp_activation(x)\n",
    "x1 = inverse_linear_exp_activation(y)\n",
    "%matplotlib inline\n",
    "import matplotlib.pyplot as plt\n",
    "\n",
    "\n",
    "plt.plot(x,y)\n",
    "#plt.plot(x1,y)\n",
    "#plt.grid()\n",
    "#plt.plot(x,x1)"
   ]
  },
  {
   "cell_type": "code",
   "execution_count": null,
   "metadata": {},
   "outputs": [],
   "source": [
    "tgrid_to_bb\n",
    "\n",
    "\n",
    "delta_mbn = compute_average_in_box(delta_imgs=(imgs_bcwh - out_background_mbcwh).abs(),\n",
    "                                                   bounding_box=bounding_box_mbn)\n",
    "                unit_ranking_mbn = (compute_ranking(delta_mbn) + 1).float() / (delta_mbn.shape[-1] + 1)  # in (0,1)\n",
    "\n",
    "                nms_pretraining: NmsOutput = NonMaxSuppression.compute_mask_and_index(score_n=unit_ranking_mbn,\n",
    "                                                                                      bounding_box_n=bounding_box_mbn,\n",
    "                                                                                      iom_threshold=iom_threshold,\n",
    "                                                                                      k_objects_max=k_objects_max,\n",
    "                                                                                      topk_only=combined_topk_only)\n",
    "                unit_ranking_mb1wh = invert_convert_to_box_list(unit_ranking_mbn.unsqueeze(dim=-1),\n",
    "                                                                original_width=unet_output.logit.shape[-2],\n",
    "                                                                original_height=unet_output.logit.shape[-1])\n",
    "                k_mask_pretraining_mb1wh = invert_convert_to_box_list(nms_pretraining.k_mask_n.unsqueeze(dim=-1),\n",
    "                                                                      original_width=unet_output.logit.shape[-2],\n",
    "                                                                      original_height=unet_output.logit.shape[-1])\n",
    "                p_target_mb1wh = unit_ranking_mb1wh * k_mask_pretraining_mb1wh"
   ]
  }
 ],
 "metadata": {
  "kernelspec": {
   "display_name": "Python 3",
   "language": "python",
   "name": "python3"
  },
  "language_info": {
   "codemirror_mode": {
    "name": "ipython",
    "version": 3
   },
   "file_extension": ".py",
   "mimetype": "text/x-python",
   "name": "python",
   "nbconvert_exporter": "python",
   "pygments_lexer": "ipython3",
   "version": "3.8.2"
  }
 },
 "nbformat": 4,
 "nbformat_minor": 4
}
