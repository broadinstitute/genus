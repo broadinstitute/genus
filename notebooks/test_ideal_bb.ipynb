{
 "cells": [
  {
   "cell_type": "code",
   "execution_count": null,
   "metadata": {},
   "outputs": [],
   "source": [
    "import genus"
   ]
  },
  {
   "cell_type": "code",
   "execution_count": 1,
   "metadata": {},
   "outputs": [],
   "source": [
    "from genus.util import convert_to_box_list, invert_convert_to_box_list\n",
    "from genus.util import compute_ranking, compute_average_in_box\n",
    "import torch\n",
    "import torch.nn.functional as F\n",
    "%matplotlib inline\n",
    "import matplotlib.pyplot as plt"
   ]
  },
  {
   "cell_type": "code",
   "execution_count": null,
   "metadata": {},
   "outputs": [],
   "source": [
    "\n",
    "img_train, seg_mask_train, count_train = load_obj(\"./data_train.pt\")\n",
    "img_test, seg_mask_test, count_test = load_obj(\"./data_test.pt\")\n",
    "img_test_out, seg_mask_test_out, count_test_out = load_obj(\"./ground_truth\")\n",
    "\n"
   ]
  },
  {
   "cell_type": "code",
   "execution_count": 5,
   "metadata": {},
   "outputs": [
    {
     "data": {
      "text/plain": [
       "<matplotlib.image.AxesImage at 0x7ff03f7c69d0>"
      ]
     },
     "execution_count": 5,
     "metadata": {},
     "output_type": "execute_result"
    },
    {
     "data": {
      "image/png": "[encoded data removed]",
      "text/plain": [
       "<Figure size 864x864 with 4 Axes>"
      ]
     },
     "metadata": {
      "needs_background": "light"
     },
     "output_type": "display_data"
    }
   ],
   "source": [
    "### av_intensity_nb = compute_average_in_box((imgs_bcwh - out_background_bcwh).abs(), bounding_box_nb)\n",
    "w_raw, h_raw = 10,10\n",
    "k_objects_max = 10\n",
    "\n",
    "# Compute the ranking\n",
    "av_intensity_nb = torch.randn((w_raw*h_raw,2))\n",
    "ranking_nb = compute_ranking(av_intensity_nb)  # It is in [0,n-1]\n",
    "tmp_nb = (ranking_nb + 1).float() / (ranking_nb.shape[-2]+1)  # strictly inside (0,1) range\n",
    "tmp_b1wh = invert_convert_to_box_list(tmp_nb.unsqueeze(-1),\n",
    "                                      original_width=w_raw,\n",
    "                                      original_height=h_raw)\n",
    "\n",
    "# Extract the local-maxima from the ranking\n",
    "tmp_pooled_b1wh = F.max_pool2d(tmp_b1wh, kernel_size=3, stride=1, padding=1, return_indices=False)\n",
    "local_maxima_mask_b1wh = (tmp_pooled_b1wh == tmp_b1wh)\n",
    "\n",
    "# Now select the top k local maxima\n",
    "score_b1wh = local_maxima_mask_b1wh * tmp_b1wh\n",
    "score_nb = convert_to_box_list(score_b1wh).squeeze(-1)\n",
    "index_kb = torch.topk(score_nb, k=k_objects_max, dim=-2, largest=True, sorted=True)[1]\n",
    "k_local_maxima_mask_nb = torch.zeros_like(score_nb).scatter(dim=-2, index=index_kb, src=torch.ones_like(score_nb))\n",
    "k_local_maxima_mask_b1wh = invert_convert_to_box_list(k_local_maxima_mask_nb.unsqueeze(-1),\n",
    "                                                      original_width=w_raw,\n",
    "                                                      original_height=h_raw)\n",
    "\n",
    "\n",
    "fig, axes = plt.subplots(ncols=4, figsize=(12,12))\n",
    "axes[0].imshow(tmp_b1wh[0,0])\n",
    "axes[1].imshow(score_b1wh[0,0])\n",
    "axes[2].imshow(k_local_maxima_mask_b1wh[0,0])\n",
    "axes[3].imshow((k_local_maxima_mask_b1wh*score_b1wh)[0,0])"
   ]
  },
  {
   "cell_type": "code",
   "execution_count": null,
   "metadata": {},
   "outputs": [],
   "source": [
    "value_local_maxima_b1wh = (local_maxima_mask_b1wh * tmp_b1wh)\n",
    "print(\"DEBUG value_local_maxima_b1wh[0,0].sum()\", value_local_maxima_b1wh[0,0])\n",
    "value_local_maxima_nb = convert_to_box_list(value_local_maxima_b1wh).squeeze(-1)\n",
    "print(\"DEBUG value_local_maxima_nb[:,0]\",value_local_maxima_nb[:,0])\n",
    "values_kb, index_kb = torch.topk(value_local_maxima_nb, k=k_objects_max, dim=-2,\n",
    "                                 largest=True, sorted=True)\n",
    "\n",
    "                \n",
    "                "
   ]
  },
  {
   "cell_type": "code",
   "execution_count": null,
   "metadata": {},
   "outputs": [],
   "source": [
    "print(\"AUCH  auch ---------\", value_local_maxima_nb[index_kb[:,0],0])\n",
    "print(\"DEBUG values_kb[:,0]\",values_kb[:,0])\n",
    "print(\"DEBUG index_kb[:,0]\",index_kb[:,0])\n",
    "print(\"DEBUG value_local_maxima_nb[:,0]\", value_local_maxima_nb[:,0])\n",
    "# Exactly k_objects_max are non_zero with values in (0.1, 0.9) the other elements are zero.\n",
    "\n",
    "\n",
    "\n",
    "p_target_nb = torch.zeros_like(value_local_maxima_nb).scatter(dim=0,\n",
    "                                                              index=index_kb,\n",
    "                                                              src=value_local_maxima_nb)\n",
    "print(\"DEBUG p_target_nb[:,0]\",p_target_nb[:,0])"
   ]
  },
  {
   "cell_type": "code",
   "execution_count": null,
   "metadata": {},
   "outputs": [],
   "source": []
  },
  {
   "cell_type": "code",
   "execution_count": null,
   "metadata": {},
   "outputs": [],
   "source": []
  },
  {
   "cell_type": "code",
   "execution_count": null,
   "metadata": {},
   "outputs": [],
   "source": []
  },
  {
   "cell_type": "code",
   "execution_count": null,
   "metadata": {},
   "outputs": [],
   "source": []
  },
  {
   "cell_type": "code",
   "execution_count": null,
   "metadata": {},
   "outputs": [],
   "source": []
  },
  {
   "cell_type": "code",
   "execution_count": null,
   "metadata": {},
   "outputs": [],
   "source": []
  },
  {
   "cell_type": "code",
   "execution_count": null,
   "metadata": {},
   "outputs": [],
   "source": []
  },
  {
   "cell_type": "code",
   "execution_count": null,
   "metadata": {},
   "outputs": [],
   "source": []
  },
  {
   "cell_type": "code",
   "execution_count": null,
   "metadata": {},
   "outputs": [],
   "source": []
  },
  {
   "cell_type": "code",
   "execution_count": null,
   "metadata": {},
   "outputs": [],
   "source": []
  },
  {
   "cell_type": "code",
   "execution_count": null,
   "metadata": {},
   "outputs": [],
   "source": [
    "                \n",
    "                \n",
    "ranking_nb = compute_ranking(av_intensity_nb)  # It is in [0,n-1]\n",
    "tmp_nb = (ranking_nb + 1).float() / (ranking_nb.shape[-2]+1)  # strictly inside (0,1) range\n",
    "tmp_b1wh = invert_convert_to_box_list(tmp_nb.unsqueeze(-1),\n",
    "                                      original_width=w_raw,\n",
    "                                      original_height=h_raw)\n",
    "\n",
    "# Extract exactly the k largest local maxima from the ranking\n",
    "tmp_pooled_b1wh = F.max_pool2d(tmp_b1wh, kernel_size=3, stride=1, padding=1, return_indices=False)\n",
    "local_maxima_mask_b1wh = (tmp_pooled_b1wh == tmp_b1wh)\n",
    "value_local_maxima_b1wh = (local_maxima_mask_b1wh * tmp_b1wh)\n",
    "value_local_maxima_nb = convert_to_box_list(value_local_maxima_b1wh).squeeze(-1)\n",
    "index_kb = torch.topk(value_local_maxima_nb, k=k_objects_max, dim=-2, largest=True, sorted=True)[1]\n",
    "\n",
    "p_target_nb = torch.zeros_like(value_local_maxima_nb).scatter(dim=0,\n",
    "                                                              index=index_kb,\n",
    "                                                              src=value_local_maxima_nb.clamp(min=0.1))\n",
    "p_target_b1wh = invert_convert_to_box_list(p_target_nb.unsqueeze(-1),\n",
    "                                           original_width=w_raw,\n",
    "                                           original_height=h_raw)\n",
    "p_corr_b1wh = p_target_b1wh"
   ]
  },
  {
   "cell_type": "code",
   "execution_count": null,
   "metadata": {},
   "outputs": [],
   "source": [
    "print(p_corr_b1wh.shape)\n",
    "\n",
    "plt.imshow(p_corr_b1wh[0,0])"
   ]
  },
  {
   "cell_type": "code",
   "execution_count": null,
   "metadata": {},
   "outputs": [],
   "source": [
    "import torch\n",
    "\n",
    "%matplotlib inline\n",
    "import matplotlib.pyplot as plt"
   ]
  },
  {
   "cell_type": "code",
   "execution_count": null,
   "metadata": {},
   "outputs": [],
   "source": [
    "b, w, h = 2, 20,20\n",
    "p_v1 = torch.rand((b,1,w,h))\n",
    "print(torch.min(p_v1), torch.max(p_v1))\n",
    "logit = torch.log(p_v1) - torch.log1p(-p_v1)\n",
    "p_v2 = torch.sigmoid(logit)\n",
    "delta_p = p_v2 - p_v1\n",
    "print(torch.min(delta_p), torch.max(delta_p))\n",
    "\n",
    "\n",
    "plt.imshow(delta_p[0,0])"
   ]
  },
  {
   "cell_type": "code",
   "execution_count": null,
   "metadata": {},
   "outputs": [],
   "source": [
    "torch.sigmoid(torch.tensor(-16.0))"
   ]
  },
  {
   "cell_type": "code",
   "execution_count": null,
   "metadata": {},
   "outputs": [],
   "source": [
    "import genus\n",
    "from genus.cropper_uncropper import Uncropper\n",
    "from genus.non_max_suppression import NonMaxSuppression\n",
    "from genus.namedtuple import BB\n",
    "import torch"
   ]
  },
  {
   "cell_type": "code",
   "execution_count": null,
   "metadata": {},
   "outputs": [],
   "source": [
    "k, b = 4, 1\n",
    "small_squares = torch.ones(k,b,1,28,28)\n",
    "bx = torch.tensor((20,20,40,60), dtype=torch.float)[..., None]\n",
    "by = torch.tensor((20,60,20,60), dtype=torch.float)[..., None]\n",
    "bw = torch.tensor((10,20,20,20), dtype=torch.float)[..., None]\n",
    "bh = torch.tensor((5,5,5,5), dtype=torch.float)[..., None]\n",
    "\n",
    "bounding_box = BB(bx,by,bw,bh)\n",
    "\n",
    "uncropper = Uncropper()\n",
    "\n",
    "mixing = uncropper.uncrop(bounding_box, small_squares, width_big=80, height_big=80)\n",
    "mixing[0] *= 0.2\n",
    "print(mixing.shape)"
   ]
  },
  {
   "cell_type": "code",
   "execution_count": null,
   "metadata": {},
   "outputs": [],
   "source": [
    "%matplotlib inline\n",
    "import matplotlib.pyplot as plt"
   ]
  },
  {
   "cell_type": "code",
   "execution_count": null,
   "metadata": {},
   "outputs": [],
   "source": [
    "plt.imshow(mixing[0,0,0])"
   ]
  },
  {
   "cell_type": "code",
   "execution_count": null,
   "metadata": {},
   "outputs": [],
   "source": [
    "tmp = torch.sum(mixing, dim=0)\n",
    "print(tmp.shape)\n",
    "plt.imshow(tmp[0,0])"
   ]
  },
  {
   "cell_type": "code",
   "execution_count": null,
   "metadata": {},
   "outputs": [],
   "source": [
    "def optimal_bb_and_bb_regression_penalty(mixing_kb1wh: torch.Tensor,\n",
    "                                         bounding_boxes_kb: BB,\n",
    "                                         pad_size: int,\n",
    "                                         min_box_size: float,\n",
    "                                         max_box_size: float) -> (BB, torch.Tensor):\n",
    "    \n",
    "    with torch.no_grad():\n",
    "\n",
    "        # Compute the ideal Bounding boxes\n",
    "        mask_kbwh = (mixing_kb1wh.squeeze(-3) > 0.5).int()\n",
    "        mask_kbh = torch.max(mask_kbwh, dim=-2)[0]\n",
    "        mask_kbw = torch.max(mask_kbwh, dim=-1)[0]\n",
    "        mask_kb = torch.max(mask_kbw, dim=-1)[0]  # 0 if empty, 1 if non-empty\n",
    "\n",
    "        plus_h = torch.arange(start=0, end=mask_kbh.shape[-1], step=1, dtype=torch.float, device=mixing_kb1wh.device) + 1\n",
    "        plus_w = torch.arange(start=0, end=mask_kbw.shape[-1], step=1, dtype=torch.float, device=mixing_kb1wh.device) + 1\n",
    "        minus_h = plus_h[-1] - plus_h + 1\n",
    "        minus_w = plus_w[-1] - plus_w + 1\n",
    "\n",
    "        # Find the coordinates of the bounding box\n",
    "        ideal_x3_kb = (torch.argmax(mask_kbw * plus_w,  dim=-1) + pad_size).clamp(min=0, max=mask_kbw.shape[-1]).float()\n",
    "        ideal_x1_kb = (torch.argmax(mask_kbw * minus_w, dim=-1) - pad_size).clamp(min=0, max=mask_kbw.shape[-1]).float()\n",
    "        ideal_y3_kb = (torch.argmax(mask_kbh * plus_h,  dim=-1) + pad_size).clamp(min=0, max=mask_kbh.shape[-1]).float()\n",
    "        ideal_y1_kb = (torch.argmax(mask_kbh * minus_h, dim=-1) - pad_size).clamp(min=0, max=mask_kbh.shape[-1]).float()\n",
    "\n",
    "        # If the box is empty, do a special treatment\n",
    "        empty_kb = (mask_kb == 0)\n",
    "        ideal_x3_kb[empty_kb] = bounding_boxes_kb.bx[empty_kb] + 0.5 * min_box_size\n",
    "        ideal_x1_kb[empty_kb] = bounding_boxes_kb.bx[empty_kb] - 0.5 * min_box_size\n",
    "        ideal_y3_kb[empty_kb] = bounding_boxes_kb.by[empty_kb] + 0.5 * min_box_size\n",
    "        ideal_y1_kb[empty_kb] = bounding_boxes_kb.by[empty_kb] - 0.5 * min_box_size\n",
    "\n",
    "        # Compute the box coordinates\n",
    "        ideal_bx_kb = 0.5*(ideal_x3_kb + ideal_x1_kb)\n",
    "        ideal_by_kb = 0.5*(ideal_y3_kb + ideal_y1_kb)\n",
    "        ideal_bw_kb = (ideal_x3_kb - ideal_x1_kb).clamp(min=min_box_size, max=max_box_size)\n",
    "        ideal_bh_kb = (ideal_y3_kb - ideal_y1_kb).clamp(min=min_box_size, max=max_box_size)\n",
    "\n",
    "        # Now compute the regression cost\n",
    "        x3_tmp_kb = ideal_bx_kb + 0.5 * ideal_bw_kb\n",
    "        x1_tmp_kb = ideal_bx_kb - 0.5 * ideal_bw_kb\n",
    "        y3_tmp_kb = ideal_by_kb + 0.5 * ideal_bh_kb\n",
    "        y1_tmp_kb = ideal_by_kb - 0.5 * ideal_bh_kb\n",
    "\n",
    "        bw_target_kb = torch.max(x3_tmp_kb - bounding_boxes_kb.bx,\n",
    "                                 bounding_boxes_kb.bx - x1_tmp_kb).clamp(min=min_box_size, max=max_box_size)\n",
    "        bh_target_kb = torch.max(y3_tmp_kb - bounding_boxes_kb.bw,\n",
    "                                 bounding_boxes_kb.bw - y1_tmp_kb).clamp(min=min_box_size, max=max_box_size)\n",
    "\n",
    "    # this is the only part outside the torch.no_grad()\n",
    "    cost_bb_regression = ((bw_target_kb - bounding_boxes_kb.bw)/min_box_size).pow(2) + \\\n",
    "                         ((bh_target_kb - bounding_boxes_kb.bh)/min_box_size).pow(2)\n",
    "\n",
    "    return BB(bx=ideal_bx_kb, by=ideal_by_kb, bw=ideal_bw_kb, bh=ideal_bh_kb), cost_bb_regression"
   ]
  },
  {
   "cell_type": "code",
   "execution_count": null,
   "metadata": {},
   "outputs": [],
   "source": [
    "new_bb, cost = optimal_bb_and_bb_regression_penalty(mixing, \n",
    "                                                    bounding_box, \n",
    "                                                    pad_size=2, \n",
    "                                                    min_box_size=5,\n",
    "                                                    max_box_size=35)"
   ]
  },
  {
   "cell_type": "code",
   "execution_count": null,
   "metadata": {},
   "outputs": [],
   "source": [
    "print(new_bb.bx.view(-1), bounding_box.bx.view(-1))\n",
    "print(new_bb.by.view(-1), bounding_box.by.view(-1))\n",
    "print(new_bb.bw.view(-1), bounding_box.bw.view(-1))\n",
    "print(new_bb.bh.view(-1), bounding_box.bh.view(-1))"
   ]
  },
  {
   "cell_type": "code",
   "execution_count": null,
   "metadata": {},
   "outputs": [],
   "source": [
    "new_mixing = uncropper.uncrop(new_bb, small_squares, width_big=80, height_big=80)\n",
    "print(new_mixing.shape)"
   ]
  },
  {
   "cell_type": "code",
   "execution_count": null,
   "metadata": {},
   "outputs": [],
   "source": [
    "plt.imshow(new_mixing[0,0,0])"
   ]
  },
  {
   "cell_type": "code",
   "execution_count": null,
   "metadata": {},
   "outputs": [],
   "source": [
    "new_tmp = torch.sum(new_mixing, dim=0)\n",
    "print(new_tmp.shape)\n",
    "plt.imshow(new_tmp[0,0])"
   ]
  },
  {
   "cell_type": "code",
   "execution_count": null,
   "metadata": {},
   "outputs": [],
   "source": [
    "import numpy"
   ]
  },
  {
   "cell_type": "code",
   "execution_count": null,
   "metadata": {},
   "outputs": [],
   "source": [
    "numpy.exp(0.2)"
   ]
  },
  {
   "cell_type": "code",
   "execution_count": null,
   "metadata": {},
   "outputs": [],
   "source": [
    "def KL(x,y):\n",
    "    return x*torch.log(x/y)+(1-x)*torch.log((1-x)/(1-y))\n",
    "    \n",
    "x = torch.linspace(0.01,0.99,100).view(-1,1)\n",
    "y = torch.linspace(0.01,0.99,100).view(1,-1)\n",
    "\n",
    "z = KL(x,y)\n",
    "    "
   ]
  },
  {
   "cell_type": "code",
   "execution_count": null,
   "metadata": {},
   "outputs": [],
   "source": [
    "plt.imshow(z)"
   ]
  },
  {
   "cell_type": "code",
   "execution_count": null,
   "metadata": {},
   "outputs": [],
   "source": []
  }
 ],
 "metadata": {
  "kernelspec": {
   "display_name": "Python 3",
   "language": "python",
   "name": "python3"
  },
  "language_info": {
   "codemirror_mode": {
    "name": "ipython",
    "version": 3
   },
   "file_extension": ".py",
   "mimetype": "text/x-python",
   "name": "python",
   "nbconvert_exporter": "python",
   "pygments_lexer": "ipython3",
   "version": "3.8.2"
  }
 },
 "nbformat": 4,
 "nbformat_minor": 4
}
