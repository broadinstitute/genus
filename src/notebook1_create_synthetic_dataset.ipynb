{
 "cells": [
  {
   "cell_type": "markdown",
   "metadata": {},
   "source": [
    "# Create synthetic dataset"
   ]
  },
  {
   "cell_type": "markdown",
   "metadata": {},
   "source": [
    "This notebook creates synthetic datasets with multiple objects and structured backgrounds.\n",
    "The datasets used in the paper are saved as compressed numpy tensor. See notebooks 3 and 4."
   ]
  },
  {
   "cell_type": "code",
   "execution_count": 1,
   "metadata": {},
   "outputs": [],
   "source": [
    "import genus\n",
    "from genus.cropper_uncropper import Uncropper\n",
    "from genus.non_max_suppression import NonMaxSuppression\n",
    "from genus.namedtuple import BB\n",
    "from genus.util_vis import show_batch\n",
    "from genus.util import save_obj, load_obj"
   ]
  },
  {
   "cell_type": "code",
   "execution_count": 2,
   "metadata": {},
   "outputs": [],
   "source": [
    "%matplotlib inline\n",
    "import matplotlib.pyplot as plt\n",
    "\n",
    "import skimage.transform\n",
    "import numpy\n",
    "import torch \n",
    "import torchvision\n",
    "from torchvision import transforms"
   ]
  },
  {
   "cell_type": "markdown",
   "metadata": {},
   "source": [
    "### Helper functions"
   ]
  },
  {
   "cell_type": "code",
   "execution_count": 43,
   "metadata": {},
   "outputs": [],
   "source": [
    "# specify the parameter for combining isolated object into a multi-object dataset\n",
    "default_params = {\n",
    "    \"MIN_OBJECT_SIZE\": 20,\n",
    "    \"MAX_OBJECT_SIZE\": 40,\n",
    "    \"WIDTH_RAW_IMAGE\": 80,\n",
    "    \"HEIGHT_RAW_IMAGE\": 80,\n",
    "    \"IoM_THRESHOLD\" : 0.3\n",
    "    }\n",
    "\n",
    "def torch_dilation(img, times: int=1):\n",
    "    \"\"\" Takes a 2D torch tensor and perfrom dilation, i.e. bright region extend dark regions shrink \"\"\"\n",
    "    img = img[None, None]\n",
    "    tmp = img.flatten(start_dim=0, end_dim=-4)\n",
    "    for n in range(times):\n",
    "        tmp = torch.nn.MaxPool2d(kernel_size=3, stride=1, padding=1)(tmp)\n",
    "    return tmp.view_as(img[0,0])\n",
    "\n",
    "\n",
    "def make_background_grid_discrete(params, n_obj=10):\n",
    "    \"\"\" Generates a grid with few different spacing and few different orientation angles \"\"\"\n",
    "    width_big  = params[\"WIDTH_RAW_IMAGE\"]\n",
    "    height_big = params[\"HEIGHT_RAW_IMAGE\"]\n",
    "    rotated_bg = numpy.zeros((n_obj,1,width_big,height_big))\n",
    "    \n",
    "    for i in range(n_obj):\n",
    "        angle = 15.0 * numpy.random.randint(low=0, high=4, size=1, dtype=int)  # 0,15,30,45\n",
    "        dx,dy = 10 + 5 * numpy.random.randint(low=0, high=3, size=2, dtype=int)  # 10,15,20\n",
    "        template = numpy.zeros((2*width_big,2*height_big))\n",
    "        template[::dx,:]=1\n",
    "        template[:,::dy]=1\n",
    "        tmp = skimage.transform.rotate(template, angle, resize=False, center=None, order=1, clip=True, preserve_range=True)\n",
    "        rotated_bg[i,0] = tmp[width_big//2:width_big//2+width_big,height_big//2:height_big//2+height_big]\n",
    "    return torch.from_numpy(rotated_bg).float()\n",
    "\n",
    "\n",
    "def make_isolated_blobs(size=28, n_obj=400):\n",
    "    \"\"\" Create isolated binarized blobs (1 inside and 0 outside). \n",
    "    The shape of the blob is random and obtained by random sampling of the first few fourier Harmonics \"\"\"\n",
    "    \n",
    "    N_HARMONICS=2\n",
    "    \n",
    "    # Preparation. Create matrix with cos and sin\n",
    "    x_mat = torch.linspace(-1.0, 1.0,steps=size).view(-1,1).expand(size,size).float()\n",
    "    y_mat = x_mat.clone().permute(1,0)\n",
    "    r2_mat   = (x_mat**2 + y_mat**2)\n",
    "    r_mat = torch.where(r2_mat>0, r2_mat.sqrt(), torch.zeros_like(r2_mat)).clamp(min=1E-6)\n",
    "    cos_theta = x_mat/r_mat\n",
    "    theta_tmp = torch.acos(cos_theta)\n",
    "    theta = torch.where(y_mat>0, theta_tmp, -theta_tmp)\n",
    "    n = 1+torch.arange(N_HARMONICS)\n",
    "    n_theta = n.view(-1,1,1) * theta \n",
    "    cos_n_theta = torch.cos(n_theta)\n",
    "    sin_n_theta = torch.sin(n_theta)\n",
    "    \n",
    "    # Compute: r(theta) = 1 + sum_n [ a_n cos(n*theta) + b_n sin(n*theta)]\n",
    "    a = 1E-1 * torch.randn((n_obj, N_HARMONICS,1,1))\n",
    "    b = 1E-1 * torch.randn((n_obj, N_HARMONICS,1,1))\n",
    "    rf = 0.8 + (a*cos_n_theta + b*sin_n_theta).sum(dim=-3)  # this is \n",
    "\n",
    "    # compute the blobs\n",
    "    d2 = (r_mat / rf).pow(2)\n",
    "    blobs = torch.exp(-d2)*(d2<1.0).float()\n",
    "    fake_labels = torch.arange(n_obj)+1\n",
    "    return blobs.unsqueeze(-3), fake_labels\n",
    "\n",
    "\n",
    "def create_dataset(params, dataset_single_objects, goal_for_class=torch.tensor([0,0,100,100,100]), verbose=False):\n",
    "    \"\"\" Compose many individual object into multi-object images according to the params specification. \n",
    "        goal_for_class is a tensor which specify how many object should be placed in the image. \n",
    "        For example: \n",
    "        goal_for_class=torch.tensor([2,3,100,100,100])\n",
    "        means that the dataset will contain:\n",
    "        - 2 images with zero objects\n",
    "        - 3 images with one object\n",
    "        - 100 images with two, three and four obects\n",
    "    \"\"\"\n",
    "\n",
    "    def drop_some_objects(c_selected_old, counter_for_class, goal_for_class, verbose):\n",
    "        \"\"\" Drop some object by changing the indicator function.\n",
    "            It start greedely from the most object and remove object 1by1. \"\"\"    \n",
    "        count = torch.sum(c_selected_old, dim=1)  # shape: N_IMGS_AT_ONCE\n",
    "        available_for_class = torch.bincount(count, minlength=counter_for_class.shape[0]).int()\n",
    "        missing_for_class = (goal_for_class - counter_for_class).clamp(min=0).int()\n",
    "        drop_for_class = (available_for_class - missing_for_class).clamp(min=0) \n",
    "    \n",
    "        if verbose:\n",
    "            print(\" \")\n",
    "            print(\" \")\n",
    "            print(\"counter_for_class ---->\",counter_for_class)\n",
    "            print(\"missing_for_class ---->\",missing_for_class)\n",
    "            print(\"available_for_class -->\",available_for_class,\"-->\",torch.sum(available_for_class))\n",
    "            print(\"drop_for_class ------->\",drop_for_class)\n",
    "            \n",
    "    \n",
    "        for cl in range(drop_for_class.shape[0]-1,0,-1): # count backward\n",
    "            # print(\"checking class -> cl\", cl)\n",
    "            n_dropped = 0\n",
    "            while drop_for_class[cl] > n_dropped:\n",
    "                # If there is something to do. I will loop over everything and drop stuff\n",
    "                for i in range(count.shape[0]):\n",
    "                    if count[i]==cl:\n",
    "                        # print(\"this image has the cl and I will do some dropping\",count[i])\n",
    "                        index = torch.argmax(c_selected_old[i,:].int(), dim=0)\n",
    "                        c_selected_old[i, index] = 0\n",
    "                        n_dropped += 1\n",
    "                        if (n_dropped == drop_for_class[cl]):\n",
    "                            # print(\"self call\")\n",
    "                            return drop_some_objects(c_selected_old, counter_for_class, goal_for_class, verbose=False)\n",
    "                    \n",
    "        return c_selected_old   \n",
    "\n",
    "    print(\"Creating multi-object dataset\")\n",
    "    debug = False\n",
    "    \n",
    "    width_big  = params[\"WIDTH_RAW_IMAGE\"]\n",
    "    height_big = params[\"HEIGHT_RAW_IMAGE\"]\n",
    "    min_size = params[\"MIN_OBJECT_SIZE\"]\n",
    "    max_size = params[\"MAX_OBJECT_SIZE\"]\n",
    "    \n",
    "    N_IMG_AT_ONCE = 64\n",
    "    k_max_objects = goal_for_class.shape[0]-1\n",
    "    N_SINGLE_OBJECTS = N_IMG_AT_ONCE * 3 * k_max_objects\n",
    "    random_sampler = torch.utils.data.RandomSampler(dataset_single_objects,\n",
    "                                                    replacement=True, \n",
    "                                                    num_samples=N_SINGLE_OBJECTS)\n",
    "\n",
    "    dataloader = torch.utils.data.DataLoader(dataset_single_objects,\n",
    "                                             batch_size=N_SINGLE_OBJECTS,\n",
    "                                             sampler=random_sampler)\n",
    "    \n",
    "    uncropper = Uncropper()\n",
    "    nms = NonMaxSuppression()\n",
    "    \n",
    "    n_goal = torch.sum(goal_for_class).int().item() \n",
    "    data_imgs = torch.zeros((n_goal,1,width_big,height_big), dtype=torch.float)\n",
    "    data_seg = torch.zeros((n_goal,1,width_big,height_big), dtype=torch.uint8)\n",
    "    data_count = torch.zeros(n_goal, dtype=torch.uint8)\n",
    "    \n",
    "    n_current = 0\n",
    "    while n_current <  n_goal-goal_for_class[0]:\n",
    "        \n",
    "        # Generate the small objects\n",
    "        objects, labels = next(iter(dataloader))\n",
    "        dependent_dim = list(objects.shape[-3:])\n",
    "        small_objects = objects.view([N_IMG_AT_ONCE, -1]+dependent_dim)\n",
    "        labels = labels.view(N_IMG_AT_ONCE, -1) + 1\n",
    "                \n",
    "        # Generate the random locations and scores\n",
    "        random = torch.rand([4]+list(small_objects.shape[:2]))\n",
    "        tp, tx, ty, tsize = torch.split(random, 1, dim=0)  \n",
    "        fake_score = tp.squeeze(0)\n",
    "        bw_dimfull = min_size + (max_size-min_size) * tsize.squeeze(0)\n",
    "        bh_dimfull = bw_dimfull\n",
    "        bx_dimfull = 0.5*bw_dimfull + (width_big-bw_dimfull)*tx.squeeze(0)\n",
    "        by_dimfull = 0.5*bw_dimfull + (width_big-bw_dimfull)*ty.squeeze(0)\n",
    "        bounding_box = BB(bx=bx_dimfull, by=by_dimfull, bw=bw_dimfull, bh=bh_dimfull)\n",
    "      \n",
    "        # Uncrop \n",
    "        big_objects = uncropper.uncrop(bounding_box, small_objects, width_big, height_big)\n",
    "        \n",
    "        # Compute non-Max-Suppression\n",
    "        nms_output: NMSoutput = nms.compute_mask_and_index(score=fake_score,\n",
    "                                                           bounding_box=bounding_box,\n",
    "                                                           iom_threshold=params[\"IoM_THRESHOLD\"],\n",
    "                                                           k_objects_max=k_max_objects,\n",
    "                                                           topk_only=False)\n",
    "        \n",
    "        # Select non-overlapping object\n",
    "        if debug:\n",
    "            print(\"bounding_box.bx.shape\", bounding_box.bx.shape) # --> torch.Size([64, 9])\n",
    "            print(\"nms_output.indices_k.shape\", nms_output.indices_k.shape)  # --> torch.Size([64, 3])\n",
    "            print(\"nms_output.chosen_mask.shape\", nms_output.chosen_mask.shape)  # --> torch.Size([64, 9])\n",
    "            print(\"big_objects.shape\", big_objects.shape)  # --> torch.Size([64, 9, ch, 80, 80])\n",
    "        \n",
    "        index_select = nms_output.indices_k[...,None,None,None].expand([-1,-1]+list(big_objects.shape[-3:])) \n",
    "        obj_selected = torch.gather(big_objects, dim=1, index=index_select)  #batch_size, k_max_objects, ch, width_big, height_big\n",
    "        label_selected = torch.gather(labels, dim=1, index=nms_output.indices_k).to(torch.uint8)\n",
    "        c_selected_old = (nms_output.score_k > 0).to(torch.uint8)\n",
    "        \n",
    "        # Drop some objects to achieve the desired number of instances in each image\n",
    "        counter_for_class = torch.bincount(data_count, minlength=k_max_objects+1)\n",
    "        c_selected = drop_some_objects(c_selected_old, counter_for_class, goal_for_class, verbose)\n",
    "        if debug:\n",
    "            print(\"c_selected_old.shape\", c_selected_old.shape)  # --> torch.Size([64, 3])\n",
    "            print(\"c_selected.shape\", c_selected.shape)  # --> torch.Size([64, 3])  \n",
    "        \n",
    "        count = torch.sum(c_selected, dim=1)\n",
    "        available_for_class = torch.bincount(count, minlength=counter_for_class.shape[0]).int()\n",
    "\n",
    "        # Compute foreground, labels, counts\n",
    "        obj_selected_no_overlap = obj_selected * c_selected[...,None,None,None]\n",
    "        label_selected_no_overlap = label_selected * c_selected\n",
    "        obj_mask = (obj_selected_no_overlap > 0.01) * label_selected_no_overlap[...,None,None,None] \n",
    "        count_label = torch.sum(c_selected, dim=1).to(torch.uint8)\n",
    "        seg_mask_skinny = torch.max(obj_mask, dim=1)[0].float()\n",
    "        seg_mask = torch_dilation(seg_mask_skinny, times=2).to(torch.uint8)\n",
    "        if debug:\n",
    "            print(\"obj_mask.shape\", obj_mask.shape) # --> torch.Size([64, 3, 1, 80, 80])\n",
    "            print(\"count_label.shape\", count_label.shape) # --> torch.Size([64])\n",
    "            print(\"seg_mask.shape\", seg_mask.shape) # --> torch.Size([64, 1, 80, 80])\n",
    "        \n",
    "        # trick to determine depth (and occlusion)\n",
    "        a = obj_mask * (torch.arange(obj_mask.shape[0])+1).view(-1,1,1,1,1)\n",
    "        index = torch.max(a, dim=1, keepdims=True)[1]\n",
    "        fg = torch.gather(obj_selected_no_overlap, dim=1, index=index).squeeze(1)\n",
    "        if debug:\n",
    "            print(\"fg.shape\", fg.shape) # --> torch.Size([64, 1, 80, 80])\n",
    "         \n",
    "        # Add to the dataset\n",
    "        use_this = (count_label > 0) \n",
    "        dn_max = n_goal-n_current\n",
    "        dn_available = torch.sum(use_this)\n",
    "        dn = min(dn_max, dn_available)\n",
    "        data_imgs[n_current:n_current+dn] = fg[use_this][:dn]\n",
    "        data_seg[n_current:n_current+dn] = seg_mask[use_this][:dn]\n",
    "        data_count[n_current:n_current+dn] = count_label[use_this][:dn]\n",
    "        n_current += dn\n",
    "    counter_for_class = torch.bincount(data_count, minlength=k_max_objects+1)\n",
    "    print(\"FINAL counter_for_class ---->\",counter_for_class)\n",
    "    print(\"\")\n",
    "    print(\"\")\n",
    "    return data_imgs, data_seg, data_count"
   ]
  },
  {
   "cell_type": "markdown",
   "metadata": {},
   "source": [
    "### Single-FashionMNIST dataset"
   ]
  },
  {
   "cell_type": "code",
   "execution_count": 44,
   "metadata": {},
   "outputs": [
    {
     "name": "stderr",
     "output_type": "stream",
     "text": [
      "Clipping input data to the valid range for imshow with RGB data ([0..1] for floats or [0..255] for integers).\n"
     ]
    },
    {
     "name": "stdout",
     "output_type": "stream",
     "text": [
      "tensor(0, dtype=torch.uint8) tensor(255, dtype=torch.uint8)\n"
     ]
    },
    {
     "data": {
      "image/png": "[encoded data removed]",
      "text/plain": [
       "<Figure size 432x288 with 1 Axes>"
      ]
     },
     "execution_count": 44,
     "metadata": {},
     "output_type": "execute_result"
    }
   ],
   "source": [
    "write_dir_single_FashionMNIST = \"./single_FashionMNIST/\"\n",
    "\n",
    "transform = transforms.ToTensor()\n",
    "fashionmnist_trainset = torchvision.datasets.FashionMNIST(write_dir_single_FashionMNIST, train=True, download=True, transform=transform)\n",
    "fashionmnist_testset  = torchvision.datasets.FashionMNIST(write_dir_single_FashionMNIST, train=False, download=True, transform=transform)\n",
    "\n",
    "# Visualize the single objects\n",
    "print(fashionmnist_testset.data[:16].min(), fashionmnist_testset.data[:16].max())\n",
    "show_batch(fashionmnist_testset.data[:16].unsqueeze(1).float())"
   ]
  },
  {
   "cell_type": "markdown",
   "metadata": {},
   "source": [
    "### Single-mnist dataset"
   ]
  },
  {
   "cell_type": "code",
   "execution_count": 45,
   "metadata": {},
   "outputs": [],
   "source": [
    "#write_dir_single_MNIST = \"./single_MNIST/\"\n",
    "#\n",
    "#transform = transforms.ToTensor()\n",
    "#mnist_trainset = torchvision.datasets.MNIST(write_dir_single_MNIST, train=True, download=True, transform=transform)\n",
    "#mnist_testset  = torchvision.datasets.MNIST(write_dir_single_MNIST, train=False, download=True, transform=transform)\n",
    "#\n",
    "## Visualize the single objects\n",
    "#show_batch(mnist_testset.data[:16].unsqueeze(1).float())"
   ]
  },
  {
   "cell_type": "markdown",
   "metadata": {},
   "source": [
    "### Single-blobs dataset"
   ]
  },
  {
   "cell_type": "code",
   "execution_count": 46,
   "metadata": {},
   "outputs": [],
   "source": [
    "#tmp_blobs_train = make_isolated_blobs(size=28,n_obj=2000)\n",
    "#tmp_blobs_test = make_isolated_blobs(size=28,n_obj=2000)\n",
    "#blobs_trainset = torch.utils.data.TensorDataset(*tmp_blobs_train)\n",
    "#blobs_testset = torch.utils.data.TensorDataset(*tmp_blobs_train)\n",
    "#\n",
    "## Visualize the single objects\n",
    "#show_batch(blobs_testset.tensors[0][:16].float())"
   ]
  },
  {
   "cell_type": "markdown",
   "metadata": {},
   "source": [
    "### Create the multi-object dataset by pasting many single-object together"
   ]
  },
  {
   "cell_type": "code",
   "execution_count": 47,
   "metadata": {},
   "outputs": [
    {
     "name": "stdout",
     "output_type": "stream",
     "text": [
      "Creating multi-object dataset\n",
      " \n",
      " \n",
      "counter_for_class ----> tensor([200,   0,   0,   0])\n",
      "missing_for_class ----> tensor([  0,   0, 100, 100], dtype=torch.int32)\n",
      "available_for_class --> tensor([ 0,  0,  4, 60], dtype=torch.int32) --> tensor(64)\n",
      "drop_for_class -------> tensor([0, 0, 0, 0], dtype=torch.int32)\n",
      " \n",
      " \n",
      "counter_for_class ----> tensor([136,   0,   4,  60])\n",
      "missing_for_class ----> tensor([ 0,  0, 96, 40], dtype=torch.int32)\n",
      "available_for_class --> tensor([ 0,  0,  5, 59], dtype=torch.int32) --> tensor(64)\n",
      "drop_for_class -------> tensor([ 0,  0,  0, 19], dtype=torch.int32)\n",
      " \n",
      " \n",
      "counter_for_class ----> tensor([ 72,   0,  28, 100])\n",
      "missing_for_class ----> tensor([ 0,  0, 72,  0], dtype=torch.int32)\n",
      "available_for_class --> tensor([ 0,  0, 13, 51], dtype=torch.int32) --> tensor(64)\n",
      "drop_for_class -------> tensor([ 0,  0,  0, 51], dtype=torch.int32)\n",
      " \n",
      " \n",
      "counter_for_class ----> tensor([  8,   0,  92, 100])\n",
      "missing_for_class ----> tensor([0, 0, 8, 0], dtype=torch.int32)\n",
      "available_for_class --> tensor([ 0,  1,  8, 55], dtype=torch.int32) --> tensor(64)\n",
      "drop_for_class -------> tensor([ 0,  1,  0, 55], dtype=torch.int32)\n",
      "FINAL counter_for_class ----> tensor([  0,   0, 100, 100])\n",
      "\n",
      "\n",
      "Creating multi-object dataset\n",
      "FINAL counter_for_class ----> tensor([  0,   0, 100, 100])\n",
      "\n",
      "\n"
     ]
    }
   ],
   "source": [
    "#multimnist_trainset = create_dataset(params=default_params, \n",
    "#                                     dataset_single_objects=mnist_trainset, \n",
    "#                                     goal_for_class=100*torch.tensor([0,0,1,1]), \n",
    "#                                     verbose=False)\n",
    "#\n",
    "#multimnist_testset = create_dataset(params=default_params, \n",
    "#                                    dataset_single_objects=mnist_trainset, \n",
    "#                                    goal_for_class=100*torch.tensor([0,0,1,1]), \n",
    "#                                    verbose=False)\n",
    "#\n",
    "#multiblob_trainset = create_dataset(params=default_params, \n",
    "#                                     dataset_single_objects=blobs_trainset, \n",
    "#                                     goal_for_class=100*torch.tensor([0,0,1,1]), \n",
    "#                                     verbose=False)\n",
    "#\n",
    "#multiblob_testset = create_dataset(params=default_params, \n",
    "#                                    dataset_single_objects=blobs_testset, \n",
    "#                                    goal_for_class=100*torch.tensor([0,0,1,1]), \n",
    "#                                    verbose=False)\n",
    "#\n",
    "fashion_trainset = create_dataset(params=default_params, \n",
    "                                     dataset_single_objects=fashionmnist_trainset, \n",
    "                                     goal_for_class=100*torch.tensor([0,0,1,1]), \n",
    "                                     verbose=True)\n",
    "\n",
    "fashion_testset = create_dataset(params=default_params, \n",
    "                                    dataset_single_objects=fashionmnist_testset, \n",
    "                                    goal_for_class=100*torch.tensor([0,0,1,1]), \n",
    "                                    verbose=False)"
   ]
  },
  {
   "cell_type": "code",
   "execution_count": 55,
   "metadata": {},
   "outputs": [
    {
     "data": {
      "image/png": "[encoded data removed]",
      "text/plain": [
       "<Figure size 432x288 with 1 Axes>"
      ]
     },
     "execution_count": 55,
     "metadata": {},
     "output_type": "execute_result"
    }
   ],
   "source": [
    "data_imgs, data_seg, data_count = fashion_trainset \n",
    "save_obj(data_imgs, \"Multi_FashionMNIST_train.pt\")\n",
    "\n",
    "data_imgs, data_seg, data_count = fashion_testset \n",
    "save_obj(data_imgs, \"Multi_FashionMNIST_test.pt\")\n",
    "\n",
    "show_batch(data_imgs[:10], normalize=False)"
   ]
  },
  {
   "cell_type": "markdown",
   "metadata": {},
   "source": [
    "### Add a structured background and save the datasets to file"
   ]
  },
  {
   "cell_type": "code",
   "execution_count": null,
   "metadata": {},
   "outputs": [],
   "source": [
    "def save_dataset_to_file(multi_instance_dataset, filename_base):\n",
    "    data_imgs, data_seg, data_count = multi_instance_dataset\n",
    "    grid = make_background_grid_discrete(params=default_params, n_obj=data_imgs.shape[0])\n",
    "    data_imgs_with_grid = (data_imgs+grid).clamp(max=1.0)\n",
    "    save_obj((data_imgs, data_seg, data_count), filename_base+\"_nogrid.pt\")\n",
    "    save_obj((data_imgs_with_grid, data_seg, data_count), filename_base+\"_withgrid.pt\")\n",
    "    print(\"created files -->\", filename_base+\"_nogrid.pt\", filename_base+\"_withgrid.pt\")\n",
    "    \n",
    "save_dataset_to_file(multimnist_trainset, \"./multimnist_80x80_n0_3_train\")\n",
    "save_dataset_to_file(multimnist_testset, \"./multimnist_80x80_n0_3_test\")\n",
    "save_dataset_to_file(multiblob_trainset, \"./multiblobs_80x80_n0_3_train\")\n",
    "save_dataset_to_file(multiblob_testset, \"./multiblobs_80x80_n0_3_test\")"
   ]
  },
  {
   "cell_type": "markdown",
   "metadata": {},
   "source": [
    "### Check the MULTI-MNIST datasets"
   ]
  },
  {
   "cell_type": "code",
   "execution_count": null,
   "metadata": {},
   "outputs": [],
   "source": [
    "data_imgs, data_seg, data_count = load_obj(\"./multimnist_80x80_n0_3_test_withgrid.pt\")\n",
    "imgs_to_show = 16\n",
    "n_instances = str(list(data_count[-imgs_to_show:].numpy()))\n",
    "show_batch(data_imgs[-imgs_to_show:], title=\"# ->\"+n_instances)"
   ]
  },
  {
   "cell_type": "code",
   "execution_count": null,
   "metadata": {},
   "outputs": [],
   "source": [
    "data_imgs, data_seg, data_count = load_obj(\"./multiblobs_80x80_n0_3_test_withgrid.pt\")\n",
    "imgs_to_show = 16\n",
    "n_instances = str(list(data_count[-imgs_to_show:].numpy()))\n",
    "show_batch(data_imgs[-imgs_to_show:], title=\"# ->\"+n_instances)"
   ]
  }
 ],
 "metadata": {
  "kernelspec": {
   "display_name": "Python 3",
   "language": "python",
   "name": "python3"
  },
  "language_info": {
   "codemirror_mode": {
    "name": "ipython",
    "version": 3
   },
   "file_extension": ".py",
   "mimetype": "text/x-python",
   "name": "python",
   "nbconvert_exporter": "python",
   "pygments_lexer": "ipython3",
   "version": "3.8.8"
  },
  "neptune": {
   "notebookId": "ae57d100-2836-43ce-ab9a-e609b0969899"
  }
 },
 "nbformat": 4,
 "nbformat_minor": 4
}
