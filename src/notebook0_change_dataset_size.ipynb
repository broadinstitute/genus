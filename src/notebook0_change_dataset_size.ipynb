{
 "cells": [
  {
   "cell_type": "markdown",
   "metadata": {},
   "source": [
    "# Change size of dataset for quick test"
   ]
  },
  {
   "cell_type": "code",
   "execution_count": 21,
   "metadata": {},
   "outputs": [],
   "source": [
    "import glob \n",
    "import os.path\n",
    "from genus.util import load_obj, save_obj\n",
    "\n",
    "def reduce_dataset_and_save_to_file(filein, fileout, n_images=100):\n",
    "    data_imgs, data_seg, data_count = load_obj(filein)\n",
    "    print(data_imgs.shape)\n",
    "    save_obj((data_imgs[:n_images].clone(), data_seg[:n_images].clone(), data_count[:n_images].clone()), fileout)\n",
    "    \n",
    "def check_size(file):\n",
    "    data_imgs, data_seg, data_count = load_obj(file)\n",
    "    print(data_imgs.shape)\n",
    "\n",
    "dir_in = \"/Users/ldalessi/REPOS/genus/new_dataset/MEDIUM_SIZE/\"\n",
    "dir_out = \"/Users/ldalessi/REPOS/genus/new_dataset/\""
   ]
  },
  {
   "cell_type": "code",
   "execution_count": 24,
   "metadata": {},
   "outputs": [
    {
     "name": "stdout",
     "output_type": "stream",
     "text": [
      "/Users/ldalessi/REPOS/genus/new_dataset/MEDIUM_SIZE/mnist_train_80x80_n4_6_with_grid.pt\n",
      "torch.Size([300, 1, 80, 80])\n",
      "/Users/ldalessi/REPOS/genus/new_dataset/MEDIUM_SIZE/mnist_train_80x80_n0_3_no_grid.pt\n",
      "torch.Size([400, 1, 80, 80])\n",
      "/Users/ldalessi/REPOS/genus/new_dataset/MEDIUM_SIZE/mnist_test_80x80_n4_6_no_grid.pt\n",
      "torch.Size([300, 1, 80, 80])\n",
      "/Users/ldalessi/REPOS/genus/new_dataset/MEDIUM_SIZE/mnist_test_80x80_n0_3_with_grid.pt\n",
      "torch.Size([400, 1, 80, 80])\n",
      "/Users/ldalessi/REPOS/genus/new_dataset/MEDIUM_SIZE/mnist_train_80x80_n0_3_with_grid.pt\n",
      "torch.Size([400, 1, 80, 80])\n",
      "/Users/ldalessi/REPOS/genus/new_dataset/MEDIUM_SIZE/mnist_test_80x80_n0_3_no_grid.pt\n",
      "torch.Size([400, 1, 80, 80])\n",
      "/Users/ldalessi/REPOS/genus/new_dataset/MEDIUM_SIZE/mnist_train_80x80_n4_6_no_grid.pt\n",
      "torch.Size([300, 1, 80, 80])\n",
      "/Users/ldalessi/REPOS/genus/new_dataset/MEDIUM_SIZE/mnist_test_80x80_n4_6_with_grid.pt\n",
      "torch.Size([300, 1, 80, 80])\n",
      "torch.Size([64, 1, 80, 80])\n",
      "torch.Size([64, 1, 80, 80])\n",
      "torch.Size([64, 1, 80, 80])\n",
      "torch.Size([64, 1, 80, 80])\n",
      "torch.Size([64, 1, 80, 80])\n",
      "torch.Size([64, 1, 80, 80])\n",
      "torch.Size([64, 1, 80, 80])\n",
      "torch.Size([64, 1, 80, 80])\n"
     ]
    }
   ],
   "source": [
    "for filein in glob.glob(dir_in + \"*.pt\"):\n",
    "    fileout = dir_out + os.path.basename(filein)\n",
    "    print(filein)\n",
    "    reduce_dataset_and_save_to_file(filein, fileout, n_images=64)\n",
    "    \n",
    "for fileout in glob.glob(dir_out + \"*.pt\"):\n",
    "    check_size(fileout)"
   ]
  },
  {
   "cell_type": "code",
   "execution_count": null,
   "metadata": {},
   "outputs": [],
   "source": []
  }
 ],
 "metadata": {
  "kernelspec": {
   "display_name": "Python 3",
   "language": "python",
   "name": "python3"
  },
  "language_info": {
   "codemirror_mode": {
    "name": "ipython",
    "version": 3
   },
   "file_extension": ".py",
   "mimetype": "text/x-python",
   "name": "python",
   "nbconvert_exporter": "python",
   "pygments_lexer": "ipython3",
   "version": "3.8.2"
  }
 },
 "nbformat": 4,
 "nbformat_minor": 4
}
