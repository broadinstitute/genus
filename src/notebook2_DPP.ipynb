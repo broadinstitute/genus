{
 "cells": [
  {
   "cell_type": "markdown",
   "metadata": {},
   "source": [
    "# Determinental Point Process (DPP)"
   ]
  },
  {
   "cell_type": "markdown",
   "metadata": {},
   "source": [
    "This notebook demonstrates how to draw random samples from FiniteDPP process defined by a square exponential similarity kernel with different values of lenght_scale and prefactor. \n",
    "\n",
    "For each combination of lenght_scale and prefactor, we draw a random sample and compute the average and the standard deviation in the number of objects."
   ]
  },
  {
   "cell_type": "code",
   "execution_count": 4,
   "metadata": {},
   "outputs": [],
   "source": [
    "#!pip install -U neptune-notebooks"
   ]
  },
  {
   "cell_type": "code",
   "execution_count": 2,
   "metadata": {},
   "outputs": [],
   "source": [
    "%matplotlib inline\n",
    "import matplotlib.pyplot as plt\n",
    "import torch\n",
    "import numpy\n",
    "from genus.util_ml import Grid_DPP\n",
    "from genus.util_vis import show_batch"
   ]
  },
  {
   "cell_type": "code",
   "execution_count": 6,
   "metadata": {},
   "outputs": [
    {
     "name": "stdout",
     "output_type": "stream",
     "text": [
      "n_actual=  1, n_av=1.020 +/- 0.516, length_scale=20.0, weight=0.1\n",
      "n_actual=  1, n_av=1.904 +/- 0.731, length_scale=20.0, weight=1.0\n",
      "n_actual=  3, n_av=2.698 +/- 0.643, length_scale=20.0, weight=5.0\n",
      "n_actual=  4, n_av=2.960 +/- 0.605, length_scale=20.0, weight=10.0\n",
      "n_actual=  2, n_av=1.338 +/- 0.713, length_scale=10.0, weight=0.1\n",
      "n_actual=  3, n_av=2.726 +/- 0.792, length_scale=10.0, weight=1.0\n",
      "n_actual=  3, n_av=3.793 +/- 0.873, length_scale=10.0, weight=5.0\n",
      "n_actual=  3, n_av=4.351 +/- 0.923, length_scale=10.0, weight=10.0\n",
      "n_actual=  1, n_av=1.997 +/- 0.953, length_scale=5.0, weight=0.1\n",
      "n_actual=  5, n_av=4.449 +/- 1.105, length_scale=5.0, weight=1.0\n",
      "n_actual=  8, n_av=6.512 +/- 1.160, length_scale=5.0, weight=5.0\n",
      "n_actual=  8, n_av=7.460 +/- 1.186, length_scale=5.0, weight=10.0\n",
      "n_actual=  7, n_av=5.093 +/- 2.029, length_scale=1.0, weight=0.1\n",
      "n_actual= 24, n_av=21.615 +/- 3.105, length_scale=1.0, weight=1.0\n",
      "n_actual= 38, n_av=37.727 +/- 3.127, length_scale=1.0, weight=5.0\n",
      "n_actual= 46, n_av=44.185 +/- 2.961, length_scale=1.0, weight=10.0\n"
     ]
    },
    {
     "data": {
      "image/png": "[encoded data removed]",
      "text/plain": [
       "<Figure size 576x576 with 16 Axes>"
      ]
     },
     "metadata": {
      "needs_background": "light"
     },
     "output_type": "display_data"
    }
   ],
   "source": [
    "grid_size = 8\n",
    "with torch.no_grad():\n",
    "    fig, ax =  plt.subplots(ncols=4, nrows=4, figsize=(8,8))\n",
    "    for r, length_scale in enumerate([20,10,5,1]):\n",
    "        for c, prefactor in enumerate([0.1, 1, 5, 10]):\n",
    "            DPP = Grid_DPP(length_scale=length_scale, weight=prefactor)\n",
    "        \n",
    "            value = DPP.sample(size=torch.Size([grid_size, grid_size]))  # draw a random samples on a grid'\n",
    "            nc = value.sum(dim=(-1,-2)).item()\n",
    "            logp = DPP.log_prob(value=value)\n",
    "            n_av = DPP.n_mean.item()\n",
    "            n_stddev = DPP.n_stddev.item()\n",
    "            print(\"n_actual={0:3d}, n_av={1:.3f} +/- {2:.3f}, length_scale={3:.1f}, weight={4:2.1f}\".format(nc, n_av, n_stddev, length_scale, prefactor))\n",
    "        \n",
    "            ax[r,c].axis('off')\n",
    "            ax[r,c].imshow(value, cmap='gray')\n",
    "    fig.tight_layout()\n",
    "    fig.savefig(\"./DPP_samples.png\")"
   ]
  },
  {
   "cell_type": "markdown",
   "metadata": {},
   "source": [
    "### Select one setting and draw many samples"
   ]
  },
  {
   "cell_type": "markdown",
   "metadata": {},
   "source": [
    "You can change the value of lenght_scale and weight till you find the combination which generates the expected number of samples"
   ]
  },
  {
   "cell_type": "code",
   "execution_count": 17,
   "metadata": {},
   "outputs": [
    {
     "name": "stdout",
     "output_type": "stream",
     "text": [
      "n_avg =5.405, n_stdev=1.533\n"
     ]
    }
   ],
   "source": [
    "grid_size = 8\n",
    "\n",
    "DPP = Grid_DPP(length_scale=4, weight=1.0)\n",
    "value = DPP.sample(size=torch.Size([grid_size, grid_size]))\n",
    "print(\"n_avg ={0:.3f}, n_stdev={1:.3f}\".format(DPP.n_mean.item(), DPP.n_variance.item()))"
   ]
  },
  {
   "cell_type": "markdown",
   "metadata": {},
   "source": [
    "Now we draw many random sample and compute the empirical density.\n",
    "Note that due to the DPP repulsion the particle density is enhanced close to the boundaries"
   ]
  },
  {
   "cell_type": "code",
   "execution_count": null,
   "metadata": {},
   "outputs": [],
   "source": [
    "n_samples=500\n",
    "value = DPP.sample(size=torch.Size([n_samples, grid_size, grid_size]))\n",
    "print(\"configurations.shape ->\",value.shape)\n",
    "show_batch(value[:20].unsqueeze(-3).float(), n_col=5, pad_value=0.5, n_padding=1, \n",
    "           title=\"Few random samples\", figsize=(12,6))"
   ]
  },
  {
   "cell_type": "code",
   "execution_count": null,
   "metadata": {},
   "outputs": [],
   "source": [
    "n_samples=500\n",
    "value = DPP.sample(size=torch.Size([n_samples, grid_size, grid_size]))\n",
    "print(\"configurations.shape ->\",value.shape)\n",
    "\n",
    "fig, axes = plt.subplots(ncols=4, nrows=1, figsize=(16, 4))\n",
    "\n",
    "axes[0].set_title(\"Average density\")\n",
    "density = axes[0].imshow(value.float().mean(dim=-3))\n",
    "axes[0].grid(color='white')\n",
    "axes[0].set_xticks(ticks=torch.arange(value.shape[-1])-0.5)\n",
    "axes[0].set_yticks(ticks=torch.arange(value.shape[-2])-0.5)\n",
    "axes[0].set_xticklabels(labels=\"\")\n",
    "axes[0].set_yticklabels(labels=\"\")\n",
    "fig.colorbar(density, ax=axes[0])\n",
    "\n",
    "axes[1].set_title(\"One random sample\")\n",
    "axes[1].imshow(value[0])\n",
    "axes[1].grid()\n",
    "axes[1].set_xticks(ticks=torch.arange(value.shape[-1])-0.5)\n",
    "axes[1].set_yticks(ticks=torch.arange(value.shape[-2])-0.5)\n",
    "axes[1].set_xticklabels(labels=\"\")\n",
    "axes[1].set_yticklabels(labels=\"\")\n",
    "\n",
    "axes[2].set_title(\"Another random sample\")\n",
    "axes[2].imshow(value[1])\n",
    "axes[2].grid()\n",
    "axes[2].set_xticks(ticks=torch.arange(value.shape[-1])-0.5)\n",
    "axes[2].set_yticks(ticks=torch.arange(value.shape[-2])-0.5)\n",
    "axes[2].set_xticklabels(labels=\"\")\n",
    "axes[2].set_yticklabels(labels=\"\")\n",
    "\n",
    "n_particles = value.sum(dim=(-1,-2))\n",
    "n_max = torch.max(n_particles).item()\n",
    "n_avg = DPP.n_mean.item()\n",
    "n_var = DPP.n_variance.item()\n",
    "n_stddev = DPP.n_stddev.item()\n",
    "print(\"n_avg={0:.3f}, n_std={1:.3f}\".format(n_avg,n_stddev))\n",
    "x = torch.linspace(0,n_max,100)\n",
    "y = torch.exp(-(x-n_avg)**2/(2*n_var)) / numpy.sqrt(2*numpy.pi*n_var)\n",
    "axes[3].set_title(\"Histogram number of particles\")\n",
    "_ = axes[3].hist(n_particles, bins=n_max, align=\"left\", rwidth=0.9, density=True)\n",
    "_ = axes[3].plot(x,y,label=\"Gaussian Fit\")\n",
    "_ = axes[3].set_xticks(ticks=torch.arange(n_max))\n",
    "_ = axes[3].set_xlabel(\"number of particles\")\n",
    "_ = axes[3].legend(loc='upper right')"
   ]
  },
  {
   "cell_type": "code",
   "execution_count": null,
   "metadata": {},
   "outputs": [],
   "source": []
  }
 ],
 "metadata": {
  "kernelspec": {
   "display_name": "Python 3",
   "language": "python",
   "name": "python3"
  },
  "language_info": {
   "codemirror_mode": {
    "name": "ipython",
    "version": 3
   },
   "file_extension": ".py",
   "mimetype": "text/x-python",
   "name": "python",
   "nbconvert_exporter": "python",
   "pygments_lexer": "ipython3",
   "version": "3.8.8"
  },
  "neptune": {
   "notebookId": "ea58cca6-5f9c-4037-8151-a3c4003e7b30"
  }
 },
 "nbformat": 4,
 "nbformat_minor": 4
}
