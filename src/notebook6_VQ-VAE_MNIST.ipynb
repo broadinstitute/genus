{
 "cells": [
  {
   "cell_type": "markdown",
   "metadata": {},
   "source": [
    "# Unsupervised Segmentation of DAPI dataset"
   ]
  },
  {
   "cell_type": "code",
   "execution_count": 2,
   "metadata": {},
   "outputs": [
    {
     "name": "stdout",
     "output_type": "stream",
     "text": [
      "The autoreload extension is already loaded. To reload it, use:\n",
      "  %reload_ext autoreload\n"
     ]
    }
   ],
   "source": [
    "%load_ext autoreload\n",
    "%autoreload 2"
   ]
  },
  {
   "cell_type": "code",
   "execution_count": 3,
   "metadata": {},
   "outputs": [],
   "source": [
    "%matplotlib inline\n",
    "import matplotlib.pyplot as plt"
   ]
  },
  {
   "cell_type": "code",
   "execution_count": 4,
   "metadata": {},
   "outputs": [],
   "source": [
    "import torch\n",
    "import genus as gn\n",
    "import numpy\n",
    "from genus.util_data import  DataloaderWithLoad, ConditionalRandomCrop, DatasetInMemory\n",
    "from genus.util import linear_interpolation, append_to_dict, ckpt2file, load_yaml_as_dict, load_obj\n",
    "from genus.util_vis import show_batch\n",
    "from genus.model import CompositionalVae, instantiate_optimizer, instantiate_scheduler, process_one_epoch\n",
    "from functools import partial\n",
    "import torchvision\n",
    "from torchvision import transforms"
   ]
  },
  {
   "cell_type": "code",
   "execution_count": 5,
   "metadata": {},
   "outputs": [],
   "source": [
    "config_file = \"./config_VQVAE.yaml\"\n",
    "config = load_yaml_as_dict(config_file)\n",
    "BATCH_SIZE = config[\"simulation\"][\"BATCH_SIZE\"]"
   ]
  },
  {
   "cell_type": "code",
   "execution_count": 6,
   "metadata": {},
   "outputs": [],
   "source": [
    "# We transform them to tensors\n",
    "transform = transforms.ToTensor()\n",
    "\n",
    "train_data = torchvision.datasets.FashionMNIST('./data', train=True, download=True, transform=transform)\n",
    "test_data = torchvision.datasets.FashionMNIST('./data', train=False, download=True, transform=transform)\n",
    "\n",
    "# Load and transform data\n",
    "train_data = torchvision.datasets.MNIST('./data', train=True, download=True, transform=transform)\n",
    "test_data = torchvision.datasets.MNIST('./data', train=False, download=True, transform=transform)\n",
    "\n",
    "\n",
    "train_dataset = DatasetInMemory(x=train_data.data.unsqueeze(-3).float()/(255.0),\n",
    "                                y=train_data.targets,\n",
    "                                store_in_cuda=False)\n",
    "test_dataset = DatasetInMemory(x=test_data.data.unsqueeze(-3).float()/(255.0),\n",
    "                               y=test_data.targets,\n",
    "                               store_in_cuda=False)\n",
    "\n",
    "BATCH_SIZE = 8\n",
    "test_loader = DataloaderWithLoad(test_dataset, batch_size=BATCH_SIZE, shuffle=False)\n",
    "train_loader = DataloaderWithLoad(train_dataset, batch_size=BATCH_SIZE, shuffle=True)"
   ]
  },
  {
   "cell_type": "markdown",
   "metadata": {},
   "source": [
    "### Create the dataloader as usual"
   ]
  },
  {
   "cell_type": "code",
   "execution_count": 7,
   "metadata": {},
   "outputs": [
    {
     "data": {
      "image/png": "[encoded data removed]",
      "text/plain": [
       "<Figure size 432x288 with 1 Axes>"
      ]
     },
     "execution_count": 7,
     "metadata": {},
     "output_type": "execute_result"
    }
   ],
   "source": [
    "img, _, _ = test_loader.load(index=torch.tensor([0,1,2,3,4,5,6,7]))\n",
    "show_batch(img, title=\"Test data\",  pad_value=0.5, n_padding=10)"
   ]
  },
  {
   "cell_type": "code",
   "execution_count": 8,
   "metadata": {},
   "outputs": [],
   "source": [
    "config_file = \"./config_VQVAE.yaml\"\n",
    "config = load_yaml_as_dict(config_file)"
   ]
  },
  {
   "cell_type": "code",
   "execution_count": 29,
   "metadata": {},
   "outputs": [
    {
     "name": "stdout",
     "output_type": "stream",
     "text": [
      "x.shape torch.Size([8, 1, 32, 32])\n",
      "z.shape torch.Size([8, 20, 4, 4])\n",
      "d_bwhk.shape torch.Size([8, 4, 4, 256])\n",
      "j_bwh.shape torch.Size([8, 4, 4])\n",
      "zq.shape torch.Size([8, 20, 4, 4])\n"
     ]
    },
    {
     "ename": "RuntimeError",
     "evalue": "The size of tensor a (32) must match the size of tensor b (64) at non-singleton dimension 3",
     "output_type": "error",
     "traceback": [
      "\u001b[0;31m---------------------------------------------------------------------------\u001b[0m",
      "\u001b[0;31mRuntimeError\u001b[0m                              Traceback (most recent call last)",
      "\u001b[0;32m<ipython-input-29-d413135e1247>\u001b[0m in \u001b[0;36m<module>\u001b[0;34m\u001b[0m\n\u001b[1;32m    110\u001b[0m     \u001b[0mimg\u001b[0m \u001b[0;34m=\u001b[0m \u001b[0mimg\u001b[0m\u001b[0;34m.\u001b[0m\u001b[0mcuda\u001b[0m\u001b[0;34m(\u001b[0m\u001b[0;34m)\u001b[0m\u001b[0;34m\u001b[0m\u001b[0;34m\u001b[0m\u001b[0m\n\u001b[1;32m    111\u001b[0m \u001b[0;34m\u001b[0m\u001b[0m\n\u001b[0;32m--> 112\u001b[0;31m \u001b[0ma\u001b[0m \u001b[0;34m=\u001b[0m \u001b[0mvae\u001b[0m\u001b[0;34m(\u001b[0m\u001b[0mimg\u001b[0m\u001b[0;34m,\u001b[0m \u001b[0mverbose\u001b[0m\u001b[0;34m=\u001b[0m\u001b[0;32mTrue\u001b[0m\u001b[0;34m)\u001b[0m\u001b[0;34m\u001b[0m\u001b[0;34m\u001b[0m\u001b[0m\n\u001b[0m",
      "\u001b[0;32m/opt/anaconda3/lib/python3.7/site-packages/torch/nn/modules/module.py\u001b[0m in \u001b[0;36m__call__\u001b[0;34m(self, *input, **kwargs)\u001b[0m\n\u001b[1;32m    548\u001b[0m             \u001b[0mresult\u001b[0m \u001b[0;34m=\u001b[0m \u001b[0mself\u001b[0m\u001b[0;34m.\u001b[0m\u001b[0m_slow_forward\u001b[0m\u001b[0;34m(\u001b[0m\u001b[0;34m*\u001b[0m\u001b[0minput\u001b[0m\u001b[0;34m,\u001b[0m \u001b[0;34m**\u001b[0m\u001b[0mkwargs\u001b[0m\u001b[0;34m)\u001b[0m\u001b[0;34m\u001b[0m\u001b[0;34m\u001b[0m\u001b[0m\n\u001b[1;32m    549\u001b[0m         \u001b[0;32melse\u001b[0m\u001b[0;34m:\u001b[0m\u001b[0;34m\u001b[0m\u001b[0;34m\u001b[0m\u001b[0m\n\u001b[0;32m--> 550\u001b[0;31m             \u001b[0mresult\u001b[0m \u001b[0;34m=\u001b[0m \u001b[0mself\u001b[0m\u001b[0;34m.\u001b[0m\u001b[0mforward\u001b[0m\u001b[0;34m(\u001b[0m\u001b[0;34m*\u001b[0m\u001b[0minput\u001b[0m\u001b[0;34m,\u001b[0m \u001b[0;34m**\u001b[0m\u001b[0mkwargs\u001b[0m\u001b[0;34m)\u001b[0m\u001b[0;34m\u001b[0m\u001b[0;34m\u001b[0m\u001b[0m\n\u001b[0m\u001b[1;32m    551\u001b[0m         \u001b[0;32mfor\u001b[0m \u001b[0mhook\u001b[0m \u001b[0;32min\u001b[0m \u001b[0mself\u001b[0m\u001b[0;34m.\u001b[0m\u001b[0m_forward_hooks\u001b[0m\u001b[0;34m.\u001b[0m\u001b[0mvalues\u001b[0m\u001b[0;34m(\u001b[0m\u001b[0;34m)\u001b[0m\u001b[0;34m:\u001b[0m\u001b[0;34m\u001b[0m\u001b[0;34m\u001b[0m\u001b[0m\n\u001b[1;32m    552\u001b[0m             \u001b[0mhook_result\u001b[0m \u001b[0;34m=\u001b[0m \u001b[0mhook\u001b[0m\u001b[0;34m(\u001b[0m\u001b[0mself\u001b[0m\u001b[0;34m,\u001b[0m \u001b[0minput\u001b[0m\u001b[0;34m,\u001b[0m \u001b[0mresult\u001b[0m\u001b[0;34m)\u001b[0m\u001b[0;34m\u001b[0m\u001b[0;34m\u001b[0m\u001b[0m\n",
      "\u001b[0;32m<ipython-input-29-d413135e1247>\u001b[0m in \u001b[0;36mforward\u001b[0;34m(self, imgs_in, iom_threshold, noisy_sampling, draw_image, draw_bg, draw_boxes, draw_boxes_ideal, verbose)\u001b[0m\n\u001b[1;32m     93\u001b[0m         \u001b[0mimgs_out\u001b[0m \u001b[0;34m=\u001b[0m \u001b[0mself\u001b[0m\u001b[0;34m.\u001b[0m\u001b[0mdecoder\u001b[0m\u001b[0;34m(\u001b[0m\u001b[0mzq\u001b[0m\u001b[0;34m)\u001b[0m\u001b[0;34m\u001b[0m\u001b[0;34m\u001b[0m\u001b[0m\n\u001b[1;32m     94\u001b[0m \u001b[0;34m\u001b[0m\u001b[0m\n\u001b[0;32m---> 95\u001b[0;31m         \u001b[0mrec\u001b[0m \u001b[0;34m=\u001b[0m \u001b[0;34m(\u001b[0m\u001b[0;34m(\u001b[0m\u001b[0mx\u001b[0m\u001b[0;34m-\u001b[0m\u001b[0mimgs_out\u001b[0m\u001b[0;34m)\u001b[0m\u001b[0;34m/\u001b[0m\u001b[0;36m0.1\u001b[0m\u001b[0;34m)\u001b[0m\u001b[0;34m.\u001b[0m\u001b[0mpow\u001b[0m\u001b[0;34m(\u001b[0m\u001b[0;36m2\u001b[0m\u001b[0;34m)\u001b[0m\u001b[0;34m.\u001b[0m\u001b[0mmean\u001b[0m\u001b[0;34m(\u001b[0m\u001b[0;34m)\u001b[0m\u001b[0;34m\u001b[0m\u001b[0;34m\u001b[0m\u001b[0m\n\u001b[0m\u001b[1;32m     96\u001b[0m         \u001b[0mloss\u001b[0m \u001b[0;34m=\u001b[0m \u001b[0mrec\u001b[0m \u001b[0;34m+\u001b[0m \u001b[0mself\u001b[0m\u001b[0;34m.\u001b[0m\u001b[0m_d2\u001b[0m\u001b[0;34m(\u001b[0m\u001b[0mz\u001b[0m\u001b[0;34m.\u001b[0m\u001b[0mdetach\u001b[0m\u001b[0;34m(\u001b[0m\u001b[0;34m)\u001b[0m\u001b[0;34m,\u001b[0m \u001b[0mzq\u001b[0m\u001b[0;34m)\u001b[0m\u001b[0;34m.\u001b[0m\u001b[0mmean\u001b[0m\u001b[0;34m(\u001b[0m\u001b[0;34m)\u001b[0m \u001b[0;34m+\u001b[0m \u001b[0mself\u001b[0m\u001b[0;34m.\u001b[0m\u001b[0mvq_beta\u001b[0m \u001b[0;34m*\u001b[0m \u001b[0mself\u001b[0m\u001b[0;34m.\u001b[0m\u001b[0m_d2\u001b[0m\u001b[0;34m(\u001b[0m\u001b[0mz\u001b[0m\u001b[0;34m,\u001b[0m \u001b[0mzq\u001b[0m\u001b[0;34m.\u001b[0m\u001b[0mdetach\u001b[0m\u001b[0;34m(\u001b[0m\u001b[0;34m)\u001b[0m\u001b[0;34m)\u001b[0m\u001b[0;34m.\u001b[0m\u001b[0mmean\u001b[0m\u001b[0;34m(\u001b[0m\u001b[0;34m)\u001b[0m\u001b[0;34m\u001b[0m\u001b[0;34m\u001b[0m\u001b[0m\n\u001b[1;32m     97\u001b[0m         return Output(metrics=MetricMiniBatch(loss=loss.mean(),\n",
      "\u001b[0;31mRuntimeError\u001b[0m: The size of tensor a (32) must match the size of tensor b (64) at non-singleton dimension 3"
     ]
    }
   ],
   "source": [
    "from typing import NamedTuple, Optional\n",
    "\n",
    "from genus.encoders_decoders import EncoderConv, DecoderConv\n",
    "from genus.namedtuple import Output, MetricMiniBatch\n",
    "    \n",
    "class ZZ(NamedTuple):\n",
    "    z: torch.Tensor\n",
    "    zq: torch.Tensor\n",
    "    \n",
    "class NewEncoderConv(torch.nn.Module):\n",
    "    def __init__(self, size: int, ch_in: int, dim_z: int):\n",
    "        super().__init__()\n",
    "        self.ch_in = ch_in\n",
    "        self.width = size\n",
    "        self.dim_z = dim_z\n",
    "        assert size==32\n",
    "\n",
    "        self.conv = torch.nn.Sequential(\n",
    "            torch.nn.Conv2d(in_channels=self.ch_in, out_channels=16, kernel_size=4, stride=1, padding=2),  # 32,32\n",
    "            torch.nn.ReLU(inplace=True),\n",
    "            torch.nn.Conv2d(in_channels=16, out_channels=32, kernel_size=4, stride=2, padding=1),  # 16,16\n",
    "            torch.nn.ReLU(inplace=True),\n",
    "            torch.nn.Conv2d(in_channels=32, out_channels=64, kernel_size=4, stride=2, padding=1),  # 8,8\n",
    "            torch.nn.ReLU(inplace=True),\n",
    "            torch.nn.Conv2d(in_channels=64, out_channels=self.dim_z, kernel_size=4, stride=2, padding=1),  # 4,4\n",
    "        )\n",
    "\n",
    "    def forward(self, x: torch.Tensor):\n",
    "        return self.conv(x)\n",
    "    \n",
    "class NewDecoderConv(torch.nn.Module):\n",
    "    def __init__(self, size: int, ch_out: int, dim_z: int):\n",
    "        super().__init__()\n",
    "        self.ch_out = ch_out\n",
    "        self.width = size\n",
    "        self.dim_z = dim_z\n",
    "        assert size==32\n",
    "        \n",
    "        self.upconv = torch.nn.Sequential(\n",
    "            torch.nn.ConvTranspose2d(in_channels=self.dim_z, out_channels=16*self.ch_out, kernel_size=4, stride=2, padding=1),  # 4,4\n",
    "            torch.nn.ReLU(inplace=True),\n",
    "            torch.nn.ConvTranspose2d(in_channels=16*self.ch_out, out_channels=8*self.ch_out, kernel_size=4, stride=2, padding=1),  # 8,8\n",
    "            torch.nn.ReLU(inplace=True),\n",
    "            torch.nn.ConvTranspose2d(in_channels=8*self.ch_out, out_channels=4*self.ch_out, kernel_size=4, stride=2, padding=1),  # 16,16\n",
    "            torch.nn.ReLU(inplace=True),\n",
    "            torch.nn.ConvTranspose2d(in_channels=4*self.ch_out, out_channels=self.ch_out, kernel_size=4, stride=2, padding=1),  # 32,32\n",
    "        )\n",
    "\n",
    "    def forward(self, z: torch.Tensor):\n",
    "        return self.upconv(z)\n",
    "    \n",
    "    \n",
    "\n",
    "class VQVAE(torch.nn.Module):\n",
    "    def __init__(self, ch_img: int, dim_z: int, codebook_size: int) -> None:\n",
    "        super().__init__()\n",
    "        self.vq_beta = 0.25\n",
    "        self.dim_z = dim_z\n",
    "        self.codebook_size = codebook_size\n",
    "        self.ch_img = ch_img\n",
    "        self.encoder = NewEncoderConv(size=32, ch_in=self.ch_img, dim_z=self.dim_z)\n",
    "        self.decoder = NewDecoderConv(size=32, ch_out=self.ch_img, dim_z=self.dim_z)\n",
    "        self.embedding_KZ = torch.nn.Embedding(self.codebook_size, self.dim_z)\n",
    "        self.embedding_KZ.weight.data.uniform_(-1.0 / self.codebook_size, 1.0 / self.codebook_size)\n",
    "        \n",
    "        if torch.cuda.is_available():\n",
    "            self.cuda()\n",
    "    \n",
    "    def _d2(self, a, b, dim):\n",
    "        return (a-b).pow(2).sum(dim=dim)\n",
    "    \n",
    "    def forward(self, imgs_in, \n",
    "                iom_threshold=None, \n",
    "                noisy_sampling=None, \n",
    "                draw_image=False,\n",
    "                draw_bg=False,\n",
    "                draw_boxes=False,\n",
    "                draw_boxes_ideal=False,\n",
    "                verbose=False):\n",
    "        x = torch.nn.functional.pad(imgs_in, pad=[2,2,2,2], mode='constant', value=0)\n",
    "        print(\"x.shape\",x.shape)\n",
    "        \n",
    "        z = self.encoder(x) # B, w, h, dim_z\n",
    "        print(\"z.shape\",z.shape)\n",
    "        \n",
    "        d_bwhk = self._d2(z.permute(0,2,3,1).unsqueeze(-2), self.embedding_KZ.weight, dim=-1)\n",
    "        print(\"d_bwhk.shape\", d_bwhk.shape)\n",
    "        \n",
    "        j_bwh = d_bwhk.min(dim=-1)[1]\n",
    "        print(\"j_bwh.shape\", j_bwh.shape)\n",
    "        zq = self.embedding_KZ.weight[j_bwh,:].permute(0,3,1,2)\n",
    "        print(\"zq.shape\", zq.shape)\n",
    "        imgs_out = self.decoder(zq)\n",
    "        \n",
    "        rec = ((x-imgs_out)/0.1).pow(2).mean()\n",
    "        loss = rec + self._d2(z.detach(), zq).mean() + self.vq_beta * self._d2(z, zq.detach()).mean()\n",
    "        return Output(metrics=MetricMiniBatch(loss=loss.mean(),\n",
    "                                              mse_av=rec,\n",
    "                                              count_prediction=-1*numpy.ones(1),\n",
    "                                              wrong_examples=-1*numpy.ones(1),\n",
    "                                              accuracy=-1.0),\n",
    "                      inference=ZZ(z=z, zq=zq), \n",
    "                      imgs=imgs_out, \n",
    "                      bb_imgs=imgs_in)\n",
    "        \n",
    "        \n",
    "vae = VQVAE(ch_img=1, dim_z=20, codebook_size=256)\n",
    "\n",
    "if torch.cuda.is_available():\n",
    "    img = img.cuda()\n",
    "    \n",
    "a = vae(img, verbose=True)"
   ]
  },
  {
   "cell_type": "code",
   "execution_count": null,
   "metadata": {},
   "outputs": [],
   "source": [
    "show_batch(a.imgs)"
   ]
  },
  {
   "cell_type": "markdown",
   "metadata": {},
   "source": [
    "### Instantiate the model, optimizer and scheduler"
   ]
  },
  {
   "cell_type": "code",
   "execution_count": null,
   "metadata": {},
   "outputs": [],
   "source": [
    "#vae = CompositionalVae(config)\n",
    "optimizer = instantiate_optimizer(model=vae, config_optimizer=config[\"optimizer\"])\n",
    "\n",
    "if config[\"simulation\"][\"type\"] == \"scratch\":\n",
    "    \n",
    "    epoch_restart = -1\n",
    "    history_dict = {}\n",
    "    min_test_loss = 999999\n",
    "\n",
    "elif config[\"simulation\"][\"type\"] == \"resume\":\n",
    "\n",
    "    if torch.cuda.is_available():\n",
    "        ckpt = file2ckpt(path=\"ckpt.pt\", device=None)\n",
    "    else:\n",
    "        ckpt = file2ckpt(path=\"ckpt.pt\", device='cpu')\n",
    "\n",
    "    load_from_ckpt(ckpt=ckpt,\n",
    "                   model=vae,\n",
    "                   optimizer=optimizer,\n",
    "                   overwrite_member_var=True)\n",
    "\n",
    "    epoch_restart = ckpt.get('epoch', -1)\n",
    "    history_dict = ckpt.get('history_dict', {})\n",
    "    try:\n",
    "        min_test_loss = min(history_dict.get(\"test_loss\", 999999))\n",
    "    except:\n",
    "        min_test_loss = 999999\n",
    "\n",
    "elif config[\"simulation\"][\"type\"] == \"pretrained\":\n",
    "\n",
    "    if torch.cuda.is_available():\n",
    "        ckpt = file2ckpt(path=\"ckpt.pt\", device=None)\n",
    "    else:\n",
    "        ckpt = file2ckpt(path=\"ckpt.pt\", device='cpu')\n",
    "\n",
    "    load_from_ckpt(ckpt=ckpt,\n",
    "                   model=vae,\n",
    "                   optimizer=None,\n",
    "                   overwrite_member_var=False)\n",
    "       \n",
    "    epoch_restart = -1\n",
    "    history_dict = {}\n",
    "    min_test_loss = 999999\n",
    "    \n",
    "else:\n",
    "    raise Exception(\"simulation type is NOT recognized\")\n",
    "    \n",
    "# instantiate the scheduler if necessary    \n",
    "if config[\"scheduler\"][\"is_active\"]:\n",
    "    scheduler = instantiate_scheduler(optimizer=optimizer, config_scheduler=config[\"scheduler\"])\n",
    "else:\n",
    "    scheduler = None"
   ]
  },
  {
   "cell_type": "markdown",
   "metadata": {},
   "source": [
    "### Training loop"
   ]
  },
  {
   "cell_type": "code",
   "execution_count": null,
   "metadata": {},
   "outputs": [],
   "source": [
    "TEST_FREQUENCY = config[\"simulation\"][\"TEST_FREQUENCY\"]\n",
    "CHECKPOINT_FREQUENCY = config[\"simulation\"][\"CHECKPOINT_FREQUENCY\"]\n",
    "NUM_EPOCHS = config[\"simulation\"][\"MAX_EPOCHS\"]\n",
    "\n",
    "for epoch in range(1,NUM_EPOCHS+1):\n",
    "    \n",
    "    \n",
    "    vae.train()\n",
    "    train_metrics = process_one_epoch(model=vae,\n",
    "                                      dataloader=train_loader,\n",
    "                                      optimizer=optimizer,\n",
    "                                      scheduler=scheduler,\n",
    "                                      iom_threshold=config[\"architecture\"][\"nms_threshold_train\"],\n",
    "                                      verbose=(epoch == 0))\n",
    "    \n",
    "    with torch.no_grad():\n",
    "        print(\"Train \" + train_metrics.pretty_print(epoch))\n",
    "        history_dict = append_to_dict(source=train_metrics,\n",
    "                                      destination=history_dict,\n",
    "                                      prefix_exclude=\"wrong_examples\",\n",
    "                                      prefix_to_add=\"train_\")\n",
    "        \n",
    "        if (epoch % TEST_FREQUENCY) == 0:\n",
    "            vae.eval()\n",
    "            test_metrics = process_one_epoch(model=vae,\n",
    "                                             dataloader=test_loader,\n",
    "                                             optimizer=optimizer,\n",
    "                                             scheduler=scheduler,\n",
    "                                             iom_threshold=config[\"architecture\"][\"nms_threshold_test\"],\n",
    "                                             verbose=(epoch == 0))\n",
    "            print(\"Test  \"+test_metrics.pretty_print(epoch))\n",
    "            history_dict = append_to_dict(source=test_metrics,\n",
    "                                          destination=history_dict,\n",
    "                                          prefix_exclude=\"wrong_examples\",\n",
    "                                          prefix_to_add=\"test_\")\n",
    "            \n",
    "        if (epoch % CHECKPOINT_FREQUENCY == 0) and (epoch >= 20):\n",
    "            ckpt = vae.create_ckpt(optimizer=optimizer,\n",
    "                                   epoch=epoch,\n",
    "                                   history_dict=history_dict)\n",
    "            ckpt2file(ckpt=ckpt, path=\"last_ckpt_\"+str(epoch))"
   ]
  },
  {
   "cell_type": "code",
   "execution_count": null,
   "metadata": {},
   "outputs": [],
   "source": [
    "output = vae(img)"
   ]
  },
  {
   "cell_type": "code",
   "execution_count": null,
   "metadata": {},
   "outputs": [],
   "source": [
    "show_batch(output.imgs)"
   ]
  },
  {
   "cell_type": "markdown",
   "metadata": {},
   "source": [
    "### Visualize the results (for example MSE)"
   ]
  },
  {
   "cell_type": "code",
   "execution_count": null,
   "metadata": {},
   "outputs": [],
   "source": [
    "plt.imshow()"
   ]
  },
  {
   "cell_type": "code",
   "execution_count": null,
   "metadata": {},
   "outputs": [],
   "source": []
  }
 ],
 "metadata": {
  "kernelspec": {
   "display_name": "Python 3",
   "language": "python",
   "name": "python3"
  },
  "language_info": {
   "codemirror_mode": {
    "name": "ipython",
    "version": 3
   },
   "file_extension": ".py",
   "mimetype": "text/x-python",
   "name": "python",
   "nbconvert_exporter": "python",
   "pygments_lexer": "ipython3",
   "version": "3.7.7"
  }
 },
 "nbformat": 4,
 "nbformat_minor": 4
}
