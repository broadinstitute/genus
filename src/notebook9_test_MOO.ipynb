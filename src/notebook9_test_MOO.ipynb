{
 "cells": [
  {
   "cell_type": "markdown",
   "id": "phantom-computer",
   "metadata": {},
   "source": [
    "# Test the multi objective optimization"
   ]
  },
  {
   "cell_type": "code",
   "execution_count": 1,
   "id": "previous-performer",
   "metadata": {},
   "outputs": [],
   "source": [
    "%load_ext autoreload\n",
    "%autoreload 2"
   ]
  },
  {
   "cell_type": "code",
   "execution_count": 2,
   "id": "novel-champion",
   "metadata": {},
   "outputs": [
    {
     "name": "stdout",
     "output_type": "stream",
     "text": [
      "python_version() --->  3.8.8\n",
      "torch.__version__ -->  1.8.0\n"
     ]
    }
   ],
   "source": [
    "\n",
    "# Check versions\n",
    "import torch\n",
    "import numpy\n",
    "from platform import python_version\n",
    "print(\"python_version() ---> \", python_version())\n",
    "print(\"torch.__version__ --> \", torch.__version__)\n",
    "\n",
    "# make sure to fix the randomness at the very beginning\n",
    "torch.manual_seed(0)\n",
    "numpy.random.seed(0)"
   ]
  },
  {
   "cell_type": "code",
   "execution_count": 12,
   "id": "difficult-render",
   "metadata": {},
   "outputs": [
    {
     "name": "stdout",
     "output_type": "stream",
     "text": [
      "torch.Size([19])\n",
      "torch.Size([29])\n",
      "torch.Size([39])\n",
      "torch.Size([49])\n"
     ]
    }
   ],
   "source": [
    "from typing import NamedTuple\n",
    "\n",
    "class UNEToutput(NamedTuple):\n",
    "    zwhere: torch.Tensor\n",
    "    zbg: torch.Tensor\n",
    "    logit: torch.Tensor\n",
    "    features: torch.Tensor\n",
    "        \n",
    "    \n",
    "zwhere = torch.zeros(19)\n",
    "zbg= torch.zeros(29)\n",
    "logit= torch.zeros(39)\n",
    "features= torch.zeros(49)\n",
    "zwhere.requires_grad=True\n",
    "zbg.requires_grad=True\n",
    "logit.requires_grad=True\n",
    "features.requires_grad=True\n",
    "\n",
    "a = UNEToutput(zwhere, zbg, logit, features)\n",
    "\n",
    "\n",
    "tmp = 0\n",
    "for v in a:\n",
    "    tmp += v.mean()\n",
    "    print(v.shape)\n",
    "    \n",
    "tmp.backward()"
   ]
  },
  {
   "cell_type": "code",
   "execution_count": 29,
   "id": "endangered-viking",
   "metadata": {},
   "outputs": [
    {
     "data": {
      "text/plain": [
       "('zwhere', 'zbg', 'logit', 'features')"
      ]
     },
     "execution_count": 29,
     "metadata": {},
     "output_type": "execute_result"
    }
   ],
   "source": [
    "a._fields"
   ]
  },
  {
   "cell_type": "code",
   "execution_count": 31,
   "id": "possible-eight",
   "metadata": {},
   "outputs": [
    {
     "name": "stdout",
     "output_type": "stream",
     "text": [
      "tensor([0.0204, 0.0204, 0.0204, 0.0204, 0.0204, 0.0204, 0.0204, 0.0204, 0.0204,\n",
      "        0.0204, 0.0204, 0.0204, 0.0204, 0.0204, 0.0204, 0.0204, 0.0204, 0.0204,\n",
      "        0.0204, 0.0204, 0.0204, 0.0204, 0.0204, 0.0204, 0.0204, 0.0204, 0.0204,\n",
      "        0.0204, 0.0204, 0.0204, 0.0204, 0.0204, 0.0204, 0.0204, 0.0204, 0.0204,\n",
      "        0.0204, 0.0204, 0.0204, 0.0204, 0.0204, 0.0204, 0.0204, 0.0204, 0.0204,\n",
      "        0.0204, 0.0204, 0.0204, 0.0204])\n",
      "tensor([0.0204, 0.0204, 0.0204, 0.0204, 0.0204, 0.0204, 0.0204, 0.0204, 0.0204,\n",
      "        0.0204, 0.0204, 0.0204, 0.0204, 0.0204, 0.0204, 0.0204, 0.0204, 0.0204,\n",
      "        0.0204, 0.0204, 0.0204, 0.0204, 0.0204, 0.0204, 0.0204, 0.0204, 0.0204,\n",
      "        0.0204, 0.0204, 0.0204, 0.0204, 0.0204, 0.0204, 0.0204, 0.0204, 0.0204,\n",
      "        0.0204, 0.0204, 0.0204, 0.0204, 0.0204, 0.0204, 0.0204, 0.0204, 0.0204,\n",
      "        0.0204, 0.0204, 0.0204, 0.0204])\n",
      "tensor([0.0204, 0.0204, 0.0204, 0.0204, 0.0204, 0.0204, 0.0204, 0.0204, 0.0204,\n",
      "        0.0204, 0.0204, 0.0204, 0.0204, 0.0204, 0.0204, 0.0204, 0.0204, 0.0204,\n",
      "        0.0204, 0.0204, 0.0204, 0.0204, 0.0204, 0.0204, 0.0204, 0.0204, 0.0204,\n",
      "        0.0204, 0.0204, 0.0204, 0.0204, 0.0204, 0.0204, 0.0204, 0.0204, 0.0204,\n",
      "        0.0204, 0.0204, 0.0204, 0.0204, 0.0204, 0.0204, 0.0204, 0.0204, 0.0204,\n",
      "        0.0204, 0.0204, 0.0204, 0.0204])\n",
      "tensor([0.0204, 0.0204, 0.0204, 0.0204, 0.0204, 0.0204, 0.0204, 0.0204, 0.0204,\n",
      "        0.0204, 0.0204, 0.0204, 0.0204, 0.0204, 0.0204, 0.0204, 0.0204, 0.0204,\n",
      "        0.0204, 0.0204, 0.0204, 0.0204, 0.0204, 0.0204, 0.0204, 0.0204, 0.0204,\n",
      "        0.0204, 0.0204, 0.0204, 0.0204, 0.0204, 0.0204, 0.0204, 0.0204, 0.0204,\n",
      "        0.0204, 0.0204, 0.0204, 0.0204, 0.0204, 0.0204, 0.0204, 0.0204, 0.0204,\n",
      "        0.0204, 0.0204, 0.0204, 0.0204])\n"
     ]
    }
   ],
   "source": [
    "for k in a:\n",
    "    \n",
    "    print(v.grad.clone())\n",
    "    #print(type(v.grad.data.clone().detach().flatten()))"
   ]
  },
  {
   "cell_type": "code",
   "execution_count": 25,
   "id": "contained-fossil",
   "metadata": {},
   "outputs": [
    {
     "ename": "AttributeError",
     "evalue": "'UNEToutput' object has no attribute 'fields'",
     "output_type": "error",
     "traceback": [
      "\u001b[0;31m---------------------------------------------------------------------------\u001b[0m",
      "\u001b[0;31mAttributeError\u001b[0m                            Traceback (most recent call last)",
      "\u001b[0;32m<ipython-input-25-babee04d5af0>\u001b[0m in \u001b[0;36m<module>\u001b[0;34m\u001b[0m\n\u001b[0;32m----> 1\u001b[0;31m \u001b[0;32mfor\u001b[0m \u001b[0mk\u001b[0m \u001b[0;32min\u001b[0m \u001b[0ma\u001b[0m\u001b[0;34m.\u001b[0m\u001b[0mfields\u001b[0m\u001b[0;34m:\u001b[0m\u001b[0;34m\u001b[0m\u001b[0;34m\u001b[0m\u001b[0m\n\u001b[0m\u001b[1;32m      2\u001b[0m \u001b[0;34m\u001b[0m\u001b[0m\n\u001b[1;32m      3\u001b[0m     \u001b[0;31m#print(v.grad.data)\u001b[0m\u001b[0;34m\u001b[0m\u001b[0;34m\u001b[0m\u001b[0;34m\u001b[0m\u001b[0m\n\u001b[1;32m      4\u001b[0m     \u001b[0mprint\u001b[0m\u001b[0;34m(\u001b[0m\u001b[0mtype\u001b[0m\u001b[0;34m(\u001b[0m\u001b[0mv\u001b[0m\u001b[0;34m.\u001b[0m\u001b[0mgrad\u001b[0m\u001b[0;34m.\u001b[0m\u001b[0mdata\u001b[0m\u001b[0;34m.\u001b[0m\u001b[0mclone\u001b[0m\u001b[0;34m(\u001b[0m\u001b[0;34m)\u001b[0m\u001b[0;34m.\u001b[0m\u001b[0mdetach\u001b[0m\u001b[0;34m(\u001b[0m\u001b[0;34m)\u001b[0m\u001b[0;34m.\u001b[0m\u001b[0mflatten\u001b[0m\u001b[0;34m(\u001b[0m\u001b[0;34m)\u001b[0m\u001b[0;34m)\u001b[0m\u001b[0;34m)\u001b[0m\u001b[0;34m\u001b[0m\u001b[0;34m\u001b[0m\u001b[0m\n",
      "\u001b[0;31mAttributeError\u001b[0m: 'UNEToutput' object has no attribute 'fields'"
     ]
    }
   ],
   "source": [
    "for k in a.fields:\n",
    "    \n",
    "    #print(v.grad.data)\n",
    "    print(type(v.grad.data.clone().detach().flatten()))"
   ]
  },
  {
   "cell_type": "markdown",
   "id": "appointed-passage",
   "metadata": {},
   "source": [
    "# Test the Multi-Objective Solver"
   ]
  },
  {
   "cell_type": "code",
   "execution_count": 4,
   "id": "coordinate-prior",
   "metadata": {},
   "outputs": [
    {
     "name": "stdout",
     "output_type": "stream",
     "text": [
      "tensor([2.1764e-01, 1.3512e-05, 4.0679e-01, 3.7556e-01], dtype=torch.float64) 400.04693780713717\n"
     ]
    }
   ],
   "source": [
    "from genus.util_moo import MinNormSolver\n",
    "\n",
    "n_tasks = 4\n",
    "n_dim = 1000\n",
    "\n",
    "grads = [torch.randn(size=[n_dim], dtype=float) for n in range(n_tasks)]\n",
    "grads[0] += 1\n",
    "grads[1] *= 3000\n",
    "\n",
    "sol, norm = MinNormSolver.find_min_norm_element(vecs=grads, verbose=False)\n",
    "print(sol, norm)"
   ]
  },
  {
   "cell_type": "markdown",
   "id": "related-incident",
   "metadata": {},
   "source": [
    "# Experiment with detaching"
   ]
  },
  {
   "cell_type": "code",
   "execution_count": 42,
   "id": "organized-liabilities",
   "metadata": {},
   "outputs": [],
   "source": [
    "import time\n",
    "\n",
    "batch, c, w, h = 64, 1, 80, 80\n",
    "\n",
    "\n",
    "class Net(torch.nn.Module):\n",
    "    def __init__(self, backbone, head):\n",
    "        super().__init__()\n",
    "        self.backbone = backbone\n",
    "        self.head = head\n",
    "        \n",
    "    def forward(self, x):\n",
    "        y = self.backbone(x)\n",
    "        z = self.head(y)\n",
    "        return z, y\n",
    "    \n",
    "    def forward_no_grad(self, x):\n",
    "        with torch.no_grad():\n",
    "            tmp = self.backbone(x)\n",
    "        y = tmp\n",
    "        y.requires_grad = True\n",
    "        z = self.head(y)\n",
    "        return z, y\n",
    "    \n",
    "    def detach_backbone(self):\n",
    "        for param in self.backbone.parameters():\n",
    "            param.requires_grad = False\n",
    "        \n",
    "    def attach_backbone(self):\n",
    "        for param in self.backbone.parameters():\n",
    "            param.requires_grad = True\n",
    "        \n",
    "    \n",
    "backbone = torch.nn.Sequential(\n",
    "    torch.nn.Conv2d(c, 128, kernel_size=3, padding=1),\n",
    "    torch.nn.ReLU(),\n",
    "    torch.nn.Conv2d(128, 128, kernel_size=3, padding=1),\n",
    "    torch.nn.ReLU(),\n",
    "    torch.nn.Conv2d(128, 128, kernel_size=3, padding=1),\n",
    "    torch.nn.ReLU(),\n",
    "    torch.nn.Conv2d(128, 128, kernel_size=3, padding=1),\n",
    "    torch.nn.ReLU()\n",
    ")\n",
    "\n",
    "head = torch.nn.Conv2d(128, c, kernel_size=3, padding=1)\n",
    "\n",
    "net = Net(backbone, head)\n",
    "x = torch.zeros(size=[batch, c, w, h], requires_grad=True)"
   ]
  },
  {
   "cell_type": "markdown",
   "id": "subtle-brand",
   "metadata": {},
   "source": [
    "### Run once in the standard way for reference"
   ]
  },
  {
   "cell_type": "code",
   "execution_count": 43,
   "id": "fresh-sheet",
   "metadata": {},
   "outputs": [
    {
     "name": "stdout",
     "output_type": "stream",
     "text": [
      "forward -> 4.206957817077637\n",
      "backward -> 9.368711948394775\n",
      "tensor(-1.8714e-08) tensor(3.0396e-08) torch.Size([64, 128, 80, 80])\n"
     ]
    }
   ],
   "source": [
    "tin = time.time()\n",
    "out, intermediate = net.forward(x)\n",
    "loss = (x - out).pow(2).mean()\n",
    "print(\"forward ->\",time.time()-tin)\n",
    "\n",
    "tin = time.time()\n",
    "intermediate.retain_grad()\n",
    "loss.backward()\n",
    "print(\"backward ->\",time.time()-tin)\n",
    "\n",
    "print(intermediate.grad.min(), intermediate.grad.max(), intermediate.grad.shape)"
   ]
  },
  {
   "cell_type": "markdown",
   "id": "noticed-purpose",
   "metadata": {},
   "source": [
    "### If the computational graph was inside no grad"
   ]
  },
  {
   "cell_type": "code",
   "execution_count": 44,
   "id": "occupied-humanitarian",
   "metadata": {},
   "outputs": [
    {
     "name": "stdout",
     "output_type": "stream",
     "text": [
      "forward -> 4.389677047729492\n",
      "backward -> 0.425462007522583\n",
      "tensor(-1.8714e-08) tensor(3.0396e-08) torch.Size([64, 128, 80, 80])\n"
     ]
    }
   ],
   "source": [
    "tin = time.time()\n",
    "out, intermediate = net.forward_no_grad(x)\n",
    "loss = (x - out).pow(2).mean()\n",
    "print(\"forward ->\",time.time()-tin)\n",
    "\n",
    "tin = time.time()\n",
    "intermediate.retain_grad()\n",
    "loss.backward()\n",
    "print(\"backward ->\",time.time()-tin)\n",
    "\n",
    "print(intermediate.grad.min(), intermediate.grad.max(), intermediate.grad.shape)"
   ]
  },
  {
   "cell_type": "markdown",
   "id": "civil-daisy",
   "metadata": {},
   "source": [
    "### What happens if I detach the backbone"
   ]
  },
  {
   "cell_type": "code",
   "execution_count": 45,
   "id": "distributed-sodium",
   "metadata": {},
   "outputs": [
    {
     "name": "stdout",
     "output_type": "stream",
     "text": [
      "forward -> 4.264872074127197\n",
      "backward -> 4.869318962097168\n",
      "tensor(-1.8714e-08) tensor(3.0396e-08) torch.Size([64, 128, 80, 80])\n"
     ]
    }
   ],
   "source": [
    "net.detach_backbone()\n",
    "\n",
    "tin = time.time()\n",
    "out, intermediate = net.forward(x)\n",
    "loss = (x - out).pow(2).mean()\n",
    "print(\"forward ->\",time.time()-tin)\n",
    "\n",
    "tin = time.time()\n",
    "intermediate.retain_grad()\n",
    "loss.backward()\n",
    "print(\"backward ->\",time.time()-tin)\n",
    "\n",
    "print(intermediate.grad.min(), intermediate.grad.max(), intermediate.grad.shape)"
   ]
  },
  {
   "cell_type": "code",
   "execution_count": null,
   "id": "secondary-roulette",
   "metadata": {},
   "outputs": [],
   "source": []
  }
 ],
 "metadata": {
  "kernelspec": {
   "display_name": "pyro",
   "language": "python",
   "name": "pyro"
  },
  "language_info": {
   "codemirror_mode": {
    "name": "ipython",
    "version": 3
   },
   "file_extension": ".py",
   "mimetype": "text/x-python",
   "name": "python",
   "nbconvert_exporter": "python",
   "pygments_lexer": "ipython3",
   "version": "3.8.8"
  }
 },
 "nbformat": 4,
 "nbformat_minor": 5
}
