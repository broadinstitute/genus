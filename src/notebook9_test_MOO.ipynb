{
 "cells": [
  {
   "cell_type": "markdown",
   "id": "phantom-computer",
   "metadata": {},
   "source": [
    "# Test the multi objective optimization"
   ]
  },
  {
   "cell_type": "code",
   "execution_count": 1,
   "id": "previous-performer",
   "metadata": {},
   "outputs": [],
   "source": [
    "%load_ext autoreload\n",
    "%autoreload 2"
   ]
  },
  {
   "cell_type": "code",
   "execution_count": 2,
   "id": "novel-champion",
   "metadata": {},
   "outputs": [
    {
     "name": "stdout",
     "output_type": "stream",
     "text": [
      "python_version() --->  3.8.8\n",
      "torch.__version__ -->  1.8.0\n"
     ]
    }
   ],
   "source": [
    "\n",
    "# Check versions\n",
    "import torch\n",
    "import numpy\n",
    "from platform import python_version\n",
    "print(\"python_version() ---> \", python_version())\n",
    "print(\"torch.__version__ --> \", torch.__version__)\n",
    "\n",
    "# make sure to fix the randomness at the very beginning\n",
    "torch.manual_seed(0)\n",
    "numpy.random.seed(0)"
   ]
  },
  {
   "cell_type": "markdown",
   "id": "appointed-passage",
   "metadata": {},
   "source": [
    "# Test the Multi-Objective Solver"
   ]
  },
  {
   "cell_type": "code",
   "execution_count": 4,
   "id": "coordinate-prior",
   "metadata": {},
   "outputs": [
    {
     "name": "stdout",
     "output_type": "stream",
     "text": [
      "tensor([2.1764e-01, 1.3512e-05, 4.0679e-01, 3.7556e-01], dtype=torch.float64) 400.04693780713717\n"
     ]
    }
   ],
   "source": [
    "from genus.util_moo import MinNormSolver\n",
    "\n",
    "n_tasks = 4\n",
    "n_dim = 1000\n",
    "\n",
    "grads = [torch.randn(size=[n_dim], dtype=float) for n in range(n_tasks)]\n",
    "grads[0] += 1\n",
    "grads[1] *= 3000\n",
    "\n",
    "sol, norm = MinNormSolver.find_min_norm_element(vecs=grads, verbose=False)\n",
    "print(sol, norm)"
   ]
  },
  {
   "cell_type": "markdown",
   "id": "related-incident",
   "metadata": {},
   "source": [
    "# Experiment with detaching"
   ]
  },
  {
   "cell_type": "code",
   "execution_count": 42,
   "id": "organized-liabilities",
   "metadata": {},
   "outputs": [],
   "source": [
    "import time\n",
    "\n",
    "batch, c, w, h = 64, 1, 80, 80\n",
    "\n",
    "\n",
    "class Net(torch.nn.Module):\n",
    "    def __init__(self, backbone, head):\n",
    "        super().__init__()\n",
    "        self.backbone = backbone\n",
    "        self.head = head\n",
    "        \n",
    "    def forward(self, x):\n",
    "        y = self.backbone(x)\n",
    "        z = self.head(y)\n",
    "        return z, y\n",
    "    \n",
    "    def forward_no_grad(self, x):\n",
    "        with torch.no_grad():\n",
    "            tmp = self.backbone(x)\n",
    "        y = tmp\n",
    "        y.requires_grad = True\n",
    "        z = self.head(y)\n",
    "        return z, y\n",
    "    \n",
    "    def detach_backbone(self):\n",
    "        for param in self.backbone.parameters():\n",
    "            param.requires_grad = False\n",
    "        \n",
    "    def attach_backbone(self):\n",
    "        for param in self.backbone.parameters():\n",
    "            param.requires_grad = True\n",
    "        \n",
    "    \n",
    "backbone = torch.nn.Sequential(\n",
    "    torch.nn.Conv2d(c, 128, kernel_size=3, padding=1),\n",
    "    torch.nn.ReLU(),\n",
    "    torch.nn.Conv2d(128, 128, kernel_size=3, padding=1),\n",
    "    torch.nn.ReLU(),\n",
    "    torch.nn.Conv2d(128, 128, kernel_size=3, padding=1),\n",
    "    torch.nn.ReLU(),\n",
    "    torch.nn.Conv2d(128, 128, kernel_size=3, padding=1),\n",
    "    torch.nn.ReLU()\n",
    ")\n",
    "\n",
    "head = torch.nn.Conv2d(128, c, kernel_size=3, padding=1)\n",
    "\n",
    "net = Net(backbone, head)\n",
    "x = torch.zeros(size=[batch, c, w, h], requires_grad=True)"
   ]
  },
  {
   "cell_type": "markdown",
   "id": "subtle-brand",
   "metadata": {},
   "source": [
    "### Run once in the standard way for reference"
   ]
  },
  {
   "cell_type": "code",
   "execution_count": 43,
   "id": "fresh-sheet",
   "metadata": {},
   "outputs": [
    {
     "name": "stdout",
     "output_type": "stream",
     "text": [
      "forward -> 4.206957817077637\n",
      "backward -> 9.368711948394775\n",
      "tensor(-1.8714e-08) tensor(3.0396e-08) torch.Size([64, 128, 80, 80])\n"
     ]
    }
   ],
   "source": [
    "tin = time.time()\n",
    "out, intermediate = net.forward(x)\n",
    "loss = (x - out).pow(2).mean()\n",
    "print(\"forward ->\",time.time()-tin)\n",
    "\n",
    "tin = time.time()\n",
    "intermediate.retain_grad()\n",
    "loss.backward()\n",
    "print(\"backward ->\",time.time()-tin)\n",
    "\n",
    "print(intermediate.grad.min(), intermediate.grad.max(), intermediate.grad.shape)"
   ]
  },
  {
   "cell_type": "markdown",
   "id": "noticed-purpose",
   "metadata": {},
   "source": [
    "### If the computational graph was inside no grad"
   ]
  },
  {
   "cell_type": "code",
   "execution_count": 44,
   "id": "occupied-humanitarian",
   "metadata": {},
   "outputs": [
    {
     "name": "stdout",
     "output_type": "stream",
     "text": [
      "forward -> 4.389677047729492\n",
      "backward -> 0.425462007522583\n",
      "tensor(-1.8714e-08) tensor(3.0396e-08) torch.Size([64, 128, 80, 80])\n"
     ]
    }
   ],
   "source": [
    "tin = time.time()\n",
    "out, intermediate = net.forward_no_grad(x)\n",
    "loss = (x - out).pow(2).mean()\n",
    "print(\"forward ->\",time.time()-tin)\n",
    "\n",
    "tin = time.time()\n",
    "intermediate.retain_grad()\n",
    "loss.backward()\n",
    "print(\"backward ->\",time.time()-tin)\n",
    "\n",
    "print(intermediate.grad.min(), intermediate.grad.max(), intermediate.grad.shape)"
   ]
  },
  {
   "cell_type": "markdown",
   "id": "civil-daisy",
   "metadata": {},
   "source": [
    "### What happens if I detach the backbone"
   ]
  },
  {
   "cell_type": "code",
   "execution_count": 45,
   "id": "distributed-sodium",
   "metadata": {},
   "outputs": [
    {
     "name": "stdout",
     "output_type": "stream",
     "text": [
      "forward -> 4.264872074127197\n",
      "backward -> 4.869318962097168\n",
      "tensor(-1.8714e-08) tensor(3.0396e-08) torch.Size([64, 128, 80, 80])\n"
     ]
    }
   ],
   "source": [
    "net.detach_backbone()\n",
    "\n",
    "tin = time.time()\n",
    "out, intermediate = net.forward(x)\n",
    "loss = (x - out).pow(2).mean()\n",
    "print(\"forward ->\",time.time()-tin)\n",
    "\n",
    "tin = time.time()\n",
    "intermediate.retain_grad()\n",
    "loss.backward()\n",
    "print(\"backward ->\",time.time()-tin)\n",
    "\n",
    "print(intermediate.grad.min(), intermediate.grad.max(), intermediate.grad.shape)"
   ]
  },
  {
   "cell_type": "code",
   "execution_count": null,
   "id": "secondary-roulette",
   "metadata": {},
   "outputs": [],
   "source": []
  }
 ],
 "metadata": {
  "kernelspec": {
   "display_name": "pyro",
   "language": "python",
   "name": "pyro"
  },
  "language_info": {
   "codemirror_mode": {
    "name": "ipython",
    "version": 3
   },
   "file_extension": ".py",
   "mimetype": "text/x-python",
   "name": "python",
   "nbconvert_exporter": "python",
   "pygments_lexer": "ipython3",
   "version": "3.8.8"
  }
 },
 "nbformat": 4,
 "nbformat_minor": 5
}
