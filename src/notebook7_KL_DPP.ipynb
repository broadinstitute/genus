{
 "cells": [
  {
   "cell_type": "markdown",
   "metadata": {},
   "source": [
    "# Determinental Point Process (DPP)"
   ]
  },
  {
   "cell_type": "markdown",
   "metadata": {},
   "source": [
    "This notebook demonstrates how to draw random samples from FiniteDPP process defined by a square exponential similarity kernel with different values of lenght_scale and prefactor. \n",
    "\n",
    "For each combination of lenght_scale and prefactor, we draw a random sample and compute the average and the standard deviation in the number of objects."
   ]
  },
  {
   "cell_type": "code",
   "execution_count": 4,
   "metadata": {},
   "outputs": [],
   "source": [
    "#!pip install -U neptune-notebooks"
   ]
  },
  {
   "cell_type": "code",
   "execution_count": 11,
   "metadata": {},
   "outputs": [],
   "source": [
    "%matplotlib inline\n",
    "import matplotlib.pyplot as plt\n",
    "import torch\n",
    "import numpy\n",
    "from genus.util_ml import Grid_DPP, compute_logp_bernoulli\n",
    "from genus.util_vis import show_batch"
   ]
  },
  {
   "cell_type": "code",
   "execution_count": 12,
   "metadata": {},
   "outputs": [],
   "source": [
    "class simplified_model(torch.nn.Module):\n",
    "    def __init__(self,\n",
    "                 length_scale: float,\n",
    "                 weight: float):\n",
    "        super().__init__()\n",
    "        B, W, H = 8, 10, 10\n",
    "        self.n_mc_samples = 100\n",
    "        self.grid_dpp = Grid_DPP(length_scale=length_scale,\n",
    "                                 weight=weight,\n",
    "                                 learnable_params=False)\n",
    "        \n",
    "        self.logit = torch.nn.Parameter(data=torch.randn((B,1,W,H), dtype=torch.float), requires_grad=True)\n",
    "    \n",
    "    def forward(self, generate_synthetic_data=False):\n",
    "        prob = torch.sigmoid(self.logit)\n",
    "\n",
    "        if generate_synthetic_data:\n",
    "            # sample from dpp prior\n",
    "            c_grid_before_nms_mcsamples = self.grid_dpp.sample(size=prob.size()).unsqueeze(dim=0)\n",
    "        else:\n",
    "            prob_expanded = prob.expand([n_mc_samples] + list(prob.shape))\n",
    "            c_grid_before_nms_mcsamples = (torch.rand_like(prob_expanded) < prob_expanded)\n",
    "        \n",
    "        logp_ber_before_nms_mb = compute_logp_bernoulli(c=c_grid_before_nms_mcsamples.detach(),\n",
    "                                                        logit=self.logit).sum(dim=(-1, -2, -3))\n",
    "        logp_dpp_before_nms_mb = self.grid_dpp.log_prob(value=c_grid_before_nms_mcsamples.squeeze(-3).detach())\n",
    "        f = logp_ber_before_nms_mb - logp_dpp_before_nms_mb\n",
    "        baseline = f.mean(dim=-2).detach()\n",
    "        logit_kl_av = torch.mean(logp_ber_before_nms_mb * (f-baseline).detach() + (f-baseline))\n",
    "        loss = logit_kl_av\n",
    "        return loss, c_grid_before_nms_mcsamples\n",
    "\n",
    "\n"
   ]
  },
  {
   "cell_type": "code",
   "execution_count": null,
   "metadata": {},
   "outputs": [],
   "source": [
    "import neptune.new as neptune\n",
    "\n",
    "exp = neptune.init(project='dalessioluca/genus-new')\n",
    "                                    \n",
    "model = simplified_model(length_scale=5.0, weight=0.2)\n",
    "optimizer = torch.optim.Adam([{'params': model.parameters(), 'lr': 0.001}])"
   ]
  },
  {
   "cell_type": "code",
   "execution_count": 39,
   "metadata": {},
   "outputs": [],
   "source": [
    "loss, c_grid = model.forward(generate_synthetic_data=True)"
   ]
  },
  {
   "cell_type": "code",
   "execution_count": 41,
   "metadata": {},
   "outputs": [
    {
     "data": {
      "image/png": "[encoded data removed]",
      "text/plain": [
       "<Figure size 432x288 with 1 Axes>"
      ]
     },
     "execution_count": 41,
     "metadata": {},
     "output_type": "execute_result"
    }
   ],
   "source": [
    "show_batch(c_grid[0].float())"
   ]
  },
  {
   "cell_type": "code",
   "execution_count": 37,
   "metadata": {},
   "outputs": [
    {
     "name": "stdout",
     "output_type": "stream",
     "text": [
      "0 tensor(-4.0408, grad_fn=<MeanBackward0>)\n",
      "100 tensor(-1.9962, grad_fn=<MeanBackward0>)\n",
      "200 tensor(-2.8233, grad_fn=<MeanBackward0>)\n",
      "300 tensor(-2.1188, grad_fn=<MeanBackward0>)\n",
      "400 tensor(-2.0692, grad_fn=<MeanBackward0>)\n",
      "500 tensor(-1.2881, grad_fn=<MeanBackward0>)\n",
      "600 tensor(-2.1219, grad_fn=<MeanBackward0>)\n",
      "700 tensor(-2.4222, grad_fn=<MeanBackward0>)\n",
      "800 tensor(0.0190, grad_fn=<MeanBackward0>)\n",
      "900 tensor(-2.1665, grad_fn=<MeanBackward0>)\n"
     ]
    }
   ],
   "source": [
    "for epoch in range(1000):\n",
    "    loss, c_grid = model.forward()\n",
    "    \n",
    "    optimizer.zero_grad()\n",
    "    loss.backward()  # do back_prop and compute all the gradients\n",
    "    optimizer.step()  # update the parameters    \n",
    "    \n",
    "    if epoch % 100 == 0:\n",
    "        n_cell = c_grid.sum(dim=(-1,-2,-3)).float().mean().detach().item()\n",
    "        exp[\"n_cell\"].log(n_cell)\n",
    "        logit_min = torch.min(model.logit).item()\n",
    "        logit_mean = torch.mean(model.logit).item()\n",
    "        logit_max = torch.max(model.logit).item()\n",
    "        exp[\"logit/min\"].log(logit_min)\n",
    "        exp[\"logit/mean\"].log(logit_mean)\n",
    "        exp[\"logit/max\"].log(logit_max)\n",
    "        \n",
    "        show_batch(c_grid[0].float(), pad_value=0.5, n_padding=2, experiment=exp, neptune_name=\"c_grid\", \n",
    "                   title=\"epoch=\"+str(epoch))\n",
    "        show_batch(model.logit, pad_value=1.0, n_padding=2, normalize_range=(-3.0, 3.0), \n",
    "               normalize=True, experiment=exp, neptune_name=\"logit\", title=\"epoch=\"+str(epoch))\n",
    "        \n",
    "        \n",
    "    \n",
    "        print(epoch, loss)\n",
    "    \n",
    "    "
   ]
  },
  {
   "cell_type": "code",
   "execution_count": null,
   "metadata": {},
   "outputs": [],
   "source": [
    "model."
   ]
  },
  {
   "cell_type": "code",
   "execution_count": null,
   "metadata": {},
   "outputs": [],
   "source": [
    "exp.stop()"
   ]
  },
  {
   "cell_type": "code",
   "execution_count": 21,
   "metadata": {},
   "outputs": [
    {
     "data": {
      "text/plain": [
       "torch.Size([8, 1, 10, 10])"
      ]
     },
     "execution_count": 21,
     "metadata": {},
     "output_type": "execute_result"
    }
   ],
   "source": [
    "c_grid[0].shape"
   ]
  },
  {
   "cell_type": "code",
   "execution_count": 33,
   "metadata": {},
   "outputs": [
    {
     "data": {
      "image/png": "[encoded data removed]",
      "text/plain": [
       "<Figure size 432x288 with 1 Axes>"
      ]
     },
     "execution_count": 33,
     "metadata": {},
     "output_type": "execute_result"
    }
   ],
   "source": []
  },
  {
   "cell_type": "code",
   "execution_count": 27,
   "metadata": {},
   "outputs": [
    {
     "data": {
      "image/png": "[encoded data removed]",
      "text/plain": [
       "<Figure size 432x288 with 1 Axes>"
      ]
     },
     "execution_count": 27,
     "metadata": {},
     "output_type": "execute_result"
    }
   ],
   "source": [
    "show_batch(c_grid[0].float(), pad_value=0.5, n_padding=2, experiment=exp, neptune_name=\"c_grid\")"
   ]
  },
  {
   "cell_type": "code",
   "execution_count": null,
   "metadata": {},
   "outputs": [],
   "source": []
  }
 ],
 "metadata": {
  "kernelspec": {
   "display_name": "Python 3",
   "language": "python",
   "name": "python3"
  },
  "language_info": {
   "codemirror_mode": {
    "name": "ipython",
    "version": 3
   },
   "file_extension": ".py",
   "mimetype": "text/x-python",
   "name": "python",
   "nbconvert_exporter": "python",
   "pygments_lexer": "ipython3",
   "version": "3.8.2"
  },
  "neptune": {
   "notebookId": "ea58cca6-5f9c-4037-8151-a3c4003e7b30"
  }
 },
 "nbformat": 4,
 "nbformat_minor": 4
}
