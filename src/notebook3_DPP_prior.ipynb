{
 "cells": [
  {
   "cell_type": "markdown",
   "metadata": {},
   "source": [
    "# Determinental Point Process (DPP)"
   ]
  },
  {
   "cell_type": "markdown",
   "metadata": {},
   "source": [
    "This notebook demonstrates how to draw random samples from FiniteDPP process defined by a square exponential similarity kernel with different values of lenght_scale and prefactor. \n",
    "\n",
    "For each combination of lenght_scale and prefactor, we draw a random sample and compute the average and the standard deviation in the number of objects."
   ]
  },
  {
   "cell_type": "code",
   "execution_count": null,
   "metadata": {},
   "outputs": [],
   "source": [
    "#!pip install -U neptune-notebooks"
   ]
  },
  {
   "cell_type": "code",
   "execution_count": 1,
   "metadata": {},
   "outputs": [],
   "source": [
    "%matplotlib inline\n",
    "import matplotlib.pyplot as plt\n",
    "import torch\n",
    "import numpy\n",
    "from genus.util_ml import Grid_DPP\n",
    "from genus.util_vis import show_batch"
   ]
  },
  {
   "cell_type": "code",
   "execution_count": 9,
   "metadata": {},
   "outputs": [
    {
     "name": "stdout",
     "output_type": "stream",
     "text": [
      "n_sampled=  1, n_expected=0.842 +/- 0.516, l=20, w=0.05\n",
      "n_sampled=  1, n_expected=1.020 +/- 0.516, l=20, w=0.1\n",
      "n_sampled=  1, n_expected=1.904 +/- 0.731, l=20, w=1\n",
      "n_sampled=  3, n_expected=2.698 +/- 0.643, l=20, w=5\n",
      "n_sampled=  3, n_expected=2.960 +/- 0.605, l=20, w=10\n",
      "n_sampled=  1, n_expected=1.018 +/- 0.658, l=10, w=0.05\n",
      "n_sampled=  1, n_expected=1.338 +/- 0.713, l=10, w=0.1\n",
      "n_sampled=  2, n_expected=2.726 +/- 0.792, l=10, w=1\n",
      "n_sampled=  3, n_expected=3.793 +/- 0.873, l=10, w=5\n",
      "n_sampled=  4, n_expected=4.351 +/- 0.923, l=10, w=10\n",
      "n_sampled=  0, n_expected=1.418 +/- 0.877, l=5, w=0.05\n",
      "n_sampled=  1, n_expected=1.997 +/- 0.953, l=5, w=0.1\n",
      "n_sampled=  5, n_expected=4.449 +/- 1.105, l=5, w=1\n",
      "n_sampled=  7, n_expected=6.512 +/- 1.160, l=5, w=5\n",
      "n_sampled=  8, n_expected=7.460 +/- 1.186, l=5, w=10\n",
      "n_sampled=  2, n_expected=2.273 +/- 1.295, l=2, w=0.05\n",
      "n_sampled=  3, n_expected=3.647 +/- 1.515, l=2, w=0.1\n",
      "n_sampled= 11, n_expected=10.704 +/- 1.903, l=2, w=1\n",
      "n_sampled= 15, n_expected=16.823 +/- 1.986, l=2, w=5\n",
      "n_sampled= 20, n_expected=19.577 +/- 2.002, l=2, w=10\n",
      "n_sampled=  3, n_expected=2.828 +/- 1.584, l=1, w=0.05\n",
      "n_sampled=  3, n_expected=5.093 +/- 2.029, l=1, w=0.1\n",
      "n_sampled= 21, n_expected=21.615 +/- 3.105, l=1, w=1\n",
      "n_sampled= 38, n_expected=37.727 +/- 3.127, l=1, w=5\n",
      "n_sampled= 49, n_expected=44.185 +/- 2.961, l=1, w=10\n"
     ]
    },
    {
     "data": {
      "image/png": "[encoded data removed]",
      "text/plain": [
       "<Figure size 576x576 with 25 Axes>"
      ]
     },
     "metadata": {
      "needs_background": "light"
     },
     "output_type": "display_data"
    }
   ],
   "source": [
    "grid_size = 8\n",
    "lenght_scales = [20, 10, 5, 2, 1]\n",
    "weights = [0.05, 0.1, 1, 5, 10]\n",
    "\n",
    "with torch.no_grad():\n",
    "    fig, ax =  plt.subplots(ncols=len(weights), nrows=len(lenght_scales), figsize=(8,8))\n",
    "    for row, l in enumerate(lenght_scales):\n",
    "        for col, w in enumerate(weights):\n",
    "            DPP = Grid_DPP(length_scale=l, weight=w)\n",
    "        \n",
    "            value = DPP.sample(size=torch.Size([grid_size, grid_size]))  # draw a random samples on a grid'\n",
    "            n_sampled = value.sum(dim=(-1,-2)).item()\n",
    "            logp = DPP.log_prob(value=value)\n",
    "            n_av = DPP.n_mean.item()\n",
    "            n_stddev = DPP.n_stddev.item()\n",
    "            print(\"n_sampled={0:3d}, n_expected={1:.3f} +/- {2:.3f}, l={3}, w={4}\".format(n_sampled, n_av, n_stddev, l, w))\n",
    "        \n",
    "            ax[row,col].axis('off')\n",
    "            ax[row,col].imshow(value, cmap='gray')\n",
    "            ax[row,col].set_title(\"l={0},w={1}\".format(l,w))\n",
    "    fig.tight_layout()\n",
    "    fig.savefig(\"./DPP_samples.png\")"
   ]
  },
  {
   "cell_type": "markdown",
   "metadata": {},
   "source": [
    "# Choose one setting"
   ]
  },
  {
   "cell_type": "markdown",
   "metadata": {},
   "source": [
    "You can change the value of lenght_scale and weight till you find the combination which generates the expected number of samples"
   ]
  },
  {
   "cell_type": "code",
   "execution_count": null,
   "metadata": {},
   "outputs": [],
   "source": [
    "grid_size = 8\n",
    "\n",
    "DPP = Grid_DPP(length_scale=5, weight=0.3)\n",
    "value = DPP.sample(size=torch.Size([grid_size, grid_size]))\n",
    "print(\"n_avg ={0:.3f}, n_stdev={1:.3f}\".format(DPP.n_mean.item(), DPP.n_variance.item()))"
   ]
  },
  {
   "cell_type": "markdown",
   "metadata": {},
   "source": [
    "# Draw many samples for that setting"
   ]
  },
  {
   "cell_type": "markdown",
   "metadata": {},
   "source": [
    "Now we draw many random sample and compute the empirical density.\n",
    "Note that due to the DPP repulsion the particle density is enhanced close to the boundaries"
   ]
  },
  {
   "cell_type": "code",
   "execution_count": null,
   "metadata": {},
   "outputs": [],
   "source": [
    "n_samples=5000\n",
    "value = DPP.sample(size=torch.Size([n_samples, grid_size, grid_size]))\n",
    "print(\"configurations.shape ->\",value.shape)"
   ]
  },
  {
   "cell_type": "markdown",
   "metadata": {},
   "source": [
    "Visualize few samples"
   ]
  },
  {
   "cell_type": "code",
   "execution_count": null,
   "metadata": {},
   "outputs": [],
   "source": [
    "show_batch(value[:20].unsqueeze(-3).float(), n_col=5, pad_value=0.5, n_padding=1, \n",
    "           title=\"Few random samples\", figsize=(12,6))"
   ]
  },
  {
   "cell_type": "markdown",
   "metadata": {},
   "source": [
    "Visualize empirical density and object number distribution"
   ]
  },
  {
   "cell_type": "code",
   "execution_count": null,
   "metadata": {},
   "outputs": [],
   "source": [
    "print(\"configurations.shape ->\",value.shape)\n",
    "\n",
    "fig, axes = plt.subplots(ncols=4, nrows=1, figsize=(16, 4))\n",
    "\n",
    "axes[0].set_title(\"Average density\")\n",
    "density = axes[0].imshow(value.float().mean(dim=-3))\n",
    "axes[0].grid(color='white')\n",
    "axes[0].set_xticks(ticks=torch.arange(value.shape[-1])-0.5)\n",
    "axes[0].set_yticks(ticks=torch.arange(value.shape[-2])-0.5)\n",
    "axes[0].set_xticklabels(labels=\"\")\n",
    "axes[0].set_yticklabels(labels=\"\")\n",
    "fig.colorbar(density, ax=axes[0])\n",
    "\n",
    "axes[1].set_title(\"One random sample\")\n",
    "axes[1].imshow(value[0])\n",
    "axes[1].grid()\n",
    "axes[1].set_xticks(ticks=torch.arange(value.shape[-1])-0.5)\n",
    "axes[1].set_yticks(ticks=torch.arange(value.shape[-2])-0.5)\n",
    "axes[1].set_xticklabels(labels=\"\")\n",
    "axes[1].set_yticklabels(labels=\"\")\n",
    "\n",
    "axes[2].set_title(\"Another random sample\")\n",
    "axes[2].imshow(value[1])\n",
    "axes[2].grid()\n",
    "axes[2].set_xticks(ticks=torch.arange(value.shape[-1])-0.5)\n",
    "axes[2].set_yticks(ticks=torch.arange(value.shape[-2])-0.5)\n",
    "axes[2].set_xticklabels(labels=\"\")\n",
    "axes[2].set_yticklabels(labels=\"\")\n",
    "\n",
    "# Make Histogram of the number of particles samples from DPP\n",
    "n_particles = value.sum(dim=(-1,-2))\n",
    "counts = torch.bincount(n_particles).float() \n",
    "counts /= counts.sum()\n",
    "\n",
    "n_avg = DPP.n_mean.item()\n",
    "n_var = DPP.n_variance.item()\n",
    "n_stddev = DPP.n_stddev.item()\n",
    "n_min = n_particles.min().item()\n",
    "n_max = n_particles.max().item()\n",
    "\n",
    "print(\"n_avg={0:.3f}, n_std={1:.3f}\".format(n_avg,n_stddev))\n",
    "print(\"n_min={0}, n_max={1}\".format(n_min,n_max))\n",
    "\n",
    "x = torch.linspace(n_min,n_max,100)\n",
    "y = torch.exp(-(x-n_avg)**2/(2*n_var)) / numpy.sqrt(2*numpy.pi*n_var)\n",
    "\n",
    "axes[3].set_title(\"Histogram number of particles\")    \n",
    "_ = axes[3].bar(torch.arange(counts.shape[0]), counts)\n",
    "_ = axes[3].plot(x,y,label=\"Gaussian Fit\")\n",
    "_ = axes[3].set_xticks(ticks=torch.arange(n_max))\n",
    "_ = axes[3].set_xlabel(\"number of particles\")\n",
    "_ = axes[3].legend(loc='upper right')"
   ]
  },
  {
   "cell_type": "code",
   "execution_count": null,
   "metadata": {},
   "outputs": [],
   "source": []
  },
  {
   "cell_type": "code",
   "execution_count": null,
   "metadata": {},
   "outputs": [],
   "source": []
  }
 ],
 "metadata": {
  "kernelspec": {
   "display_name": "Python 3",
   "language": "python",
   "name": "python3"
  },
  "language_info": {
   "codemirror_mode": {
    "name": "ipython",
    "version": 3
   },
   "file_extension": ".py",
   "mimetype": "text/x-python",
   "name": "python",
   "nbconvert_exporter": "python",
   "pygments_lexer": "ipython3",
   "version": "3.8.8"
  },
  "neptune": {
   "notebookId": "ea58cca6-5f9c-4037-8151-a3c4003e7b30"
  }
 },
 "nbformat": 4,
 "nbformat_minor": 4
}
